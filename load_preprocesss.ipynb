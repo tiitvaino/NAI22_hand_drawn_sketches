{
  "nbformat": 4,
  "nbformat_minor": 0,
  "metadata": {
    "colab": {
      "provenance": [],
      "authorship_tag": "ABX9TyOsWirI1fC4g3e8IhSjdZFW",
      "include_colab_link": true
    },
    "kernelspec": {
      "name": "python3",
      "display_name": "Python 3"
    },
    "language_info": {
      "name": "python"
    }
  },
  "cells": [
    {
      "cell_type": "markdown",
      "metadata": {
        "id": "view-in-github",
        "colab_type": "text"
      },
      "source": [
        "<a href=\"https://colab.research.google.com/github/tiitvaino/NAI22_hand_drawn_sketches/blob/main/load_preprocesss.ipynb\" target=\"_parent\"><img src=\"https://colab.research.google.com/assets/colab-badge.svg\" alt=\"Open In Colab\"/></a>"
      ]
    },
    {
      "cell_type": "code",
      "source": [
        "import json\n",
        "import os \n",
        "\n",
        "import numpy as np\n",
        "import pandas as pd\n",
        "import matplotlib.pyplot as plt\n",
        "%matplotlib inline\n",
        "\n",
        "from PIL import Image\n",
        "from IPython.display import display\n",
        "import cv2\n",
        "\n",
        "\n",
        "import tensorflow as tf\n",
        "from tensorflow import keras\n",
        "from keras.models import Sequential\n",
        "from keras.layers import  Bidirectional, LSTM, Activation, Dense, Reshape\n",
        "from keras.layers import  Convolution2D, MaxPooling2D, Flatten, BatchNormalization\n"
      ],
      "metadata": {
        "id": "_vPfQnS2cxVy"
      },
      "execution_count": 5,
      "outputs": []
    },
    {
      "cell_type": "code",
      "execution_count": 2,
      "metadata": {
        "id": "zWwaKV41aytV"
      },
      "outputs": [],
      "source": [
        "# loading sketches \n",
        "#!gsutil -mq cp 'gs://quickdraw_dataset/full/simplified/*.ndjson' .\n",
        "!gsutil -mq cp 'gs://quickdraw_dataset/full/simplified/angel.ndjson' .\n",
        "!gsutil -mq cp 'gs://quickdraw_dataset/full/simplified/ant.ndjson' ."
      ]
    },
    {
      "cell_type": "code",
      "source": [
        "def read_sketch_data(file_name:str, max_nr_elements:int=None, good_only:bool=True)->pd.DataFrame:\n",
        "  \"\"\"\n",
        "  Read from info about one class of sketches data.\n",
        "  If max_nr_elements==None then all info is read.\n",
        "  If good_only==False then all sketces info is saved.\n",
        "  \"\"\"\n",
        "  df = pd.DataFrame(columns= ['word', 'countrycode', 'timestamp', 'recognized', 'key_id', 'drawing'])\n",
        "  with open(file_name) as f:\n",
        "    for row in f.readlines():\n",
        "      data = json.loads(row)\n",
        "      df_row = pd.DataFrame.from_dict(data,orient='index').T\n",
        "      df = df.append([df_row])\n",
        "      if max_nr_elements != None:\n",
        "        max_nr_elements-=1\n",
        "        if max_nr_elements == 0:\n",
        "          break\n",
        "  # get only good pictures\n",
        "  if good_only:\n",
        "    df = df[df.recognized == True]\n",
        "  return df\n",
        "\n",
        "def read_sketches_data(class_names:list=None,max_nr_imgs_per_cls:int=None)->pd.DataFrame:\n",
        "  \"\"\"\"\n",
        "  Read every desired class info into one dataframe.\n",
        "  \"\"\"\n",
        "  data_files = list(filter(lambda x: '.ndjson' in x, os.listdir()))\n",
        "\n",
        "  df_sketches = pd.DataFrame(columns= ['word', 'countrycode', 'timestamp', 'recognized', 'key_id', 'drawing'])\n",
        "\n",
        "  for class_name in data_files:\n",
        "    if class_names and class_name[:-len('.ndjson')] not in class_names:\n",
        "      continue\n",
        "    df_sketches = df_sketches.append([read_sketch_data(class_name, max_nr_imgs_per_cls)])\n",
        "  \n",
        "  return df_sketches"
      ],
      "metadata": {
        "id": "25Ye5V5tfGna"
      },
      "execution_count": 6,
      "outputs": []
    },
    {
      "cell_type": "code",
      "source": [
        "def vector_to_img(vector)->np.array:\n",
        "  stroke_locs =  [list(zip(stroke[0],stroke[1]))for stroke in vector]\n",
        "  image = np.full((400,400,3),(255,255,255),dtype=np.uint8)\n",
        "  for stroke in stroke_locs:\n",
        "    last_point = int(stroke[0][0]),int(stroke[0][1])\n",
        "    for x,y in stroke:\n",
        "      x,y = int(x),int(y)\n",
        "      cv2.line(image, last_point, (x,y), (0,0,0), 2)\n",
        "      last_point = (x,y)\n",
        "  return image\n",
        "\n",
        "def visualise_sketch(image):\n",
        "  display(Image.fromarray(image))\n",
        "\n",
        "def preprocess_cnn(df:pd.DataFrame)->tuple:\n",
        "  x=df.apply(lambda row: vector_to_img(row['drawing'])/255.0,axis=1).values \n",
        "\n",
        "  class_names = df['word'].str.get_dummies().columns\n",
        "  y = df['word'].str.get_dummies().values\n",
        "  #num_classes = len(y.unique())\n",
        "\n",
        "  #y = keras.utils.to_categorical(y, num_classes)\n",
        "\n",
        "  return x,y,class_names"
      ],
      "metadata": {
        "id": "J3qYfQfPcWMO"
      },
      "execution_count": 7,
      "outputs": []
    },
    {
      "cell_type": "code",
      "source": [
        "import time\n",
        "times = []\n",
        "for i in range(100,810,100):\n",
        "  start = time.perf_counter()\n",
        "  df = read_sketches_data(max_nr_imgs_per_cls=i)\n",
        "  res = preprocess_cnn(df)\n",
        "  end = time.perf_counter()\n",
        "  spent_seconds = end-start\n",
        "  times.append(spent_seconds)\n",
        "  print(f'[{i}] spent seconds: {spent_seconds}')\n",
        "\n",
        "plt.plot(times)\n",
        "plt.show()"
      ],
      "metadata": {
        "colab": {
          "base_uri": "https://localhost:8080/",
          "height": 411
        },
        "id": "-dItvRHnKhWm",
        "outputId": "4beebf66-fc11-4f02-d61e-db7db9b1ed01"
      },
      "execution_count": 8,
      "outputs": [
        {
          "output_type": "stream",
          "name": "stdout",
          "text": [
            "[100] spent seconds: 1.2328897779998442\n",
            "[200] spent seconds: 1.8885066150000966\n",
            "[300] spent seconds: 3.640575876999719\n",
            "[400] spent seconds: 3.597711899999922\n",
            "[500] spent seconds: 4.295767694000006\n",
            "[600] spent seconds: 5.446257566999975\n",
            "[700] spent seconds: 6.508743493000111\n",
            "[800] spent seconds: 7.104795362999994\n"
          ]
        },
        {
          "output_type": "display_data",
          "data": {
            "text/plain": [
              "<Figure size 432x288 with 1 Axes>"
            ],
            "image/png": "[encoded data removed]"
          },
          "metadata": {
            "needs_background": "light"
          }
        }
      ]
    },
    {
      "cell_type": "code",
      "source": [
        "\n",
        "plt.plot(list(range(100,810,100)),times)\n",
        "plt.show()"
      ],
      "metadata": {
        "colab": {
          "base_uri": "https://localhost:8080/",
          "height": 265
        },
        "id": "wKhIaoDSX8rR",
        "outputId": "33af60b1-51e9-47ab-c064-3b6a14f4f861"
      },
      "execution_count": 10,
      "outputs": [
        {
          "output_type": "display_data",
          "data": {
            "text/plain": [
              "<Figure size 432x288 with 1 Axes>"
            ],
            "image/png": "[encoded data removed]"
          },
          "metadata": {
            "needs_background": "light"
          }
        }
      ]
    },
    {
      "cell_type": "code",
      "source": [],
      "metadata": {
        "id": "TIQ3R7hbYZVP"
      },
      "execution_count": null,
      "outputs": []
    }
  ]
}