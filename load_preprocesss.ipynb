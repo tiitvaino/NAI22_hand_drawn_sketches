{
  "nbformat": 4,
  "nbformat_minor": 0,
  "metadata": {
    "colab": {
      "provenance": [],
      "authorship_tag": "ABX9TyN5ae+6ceWCcLK6cEbj0rRI",
      "include_colab_link": true
    },
    "kernelspec": {
      "name": "python3",
      "display_name": "Python 3"
    },
    "language_info": {
      "name": "python"
    }
  },
  "cells": [
    {
      "cell_type": "markdown",
      "metadata": {
        "id": "view-in-github",
        "colab_type": "text"
      },
      "source": [
        "<a href=\"https://colab.research.google.com/github/tiitvaino/NAI22_hand_drawn_sketches/blob/main/load_preprocesss.ipynb\" target=\"_parent\"><img src=\"https://colab.research.google.com/assets/colab-badge.svg\" alt=\"Open In Colab\"/></a>"
      ]
    },
    {
      "cell_type": "code",
      "source": [
        "import json\n",
        "import os \n",
        "\n",
        "import numpy as np\n",
        "import pandas as pd\n",
        "import matplotlib.pyplot as plt\n",
        "%matplotlib inline\n",
        "\n",
        "from PIL import Image\n",
        "from IPython.display import display\n",
        "import cv2\n",
        "\n",
        "\n",
        "import tensorflow as tf\n",
        "from tensorflow import keras\n",
        "from keras.models import Sequential\n",
        "from keras.layers import  Bidirectional, LSTM, Activation, Dense, Reshape\n",
        "from keras.layers import  Convolution2D, MaxPooling2D, Flatten, BatchNormalization\n"
      ],
      "metadata": {
        "id": "_vPfQnS2cxVy"
      },
      "execution_count": 5,
      "outputs": []
    },
    {
      "cell_type": "code",
      "execution_count": 2,
      "metadata": {
        "id": "zWwaKV41aytV"
      },
      "outputs": [],
      "source": [
        "# loading sketches \n",
        "#!gsutil -mq cp 'gs://quickdraw_dataset/full/simplified/*.ndjson' .\n",
        "!gsutil -mq cp 'gs://quickdraw_dataset/full/simplified/angel.ndjson' .\n",
        "!gsutil -mq cp 'gs://quickdraw_dataset/full/simplified/ant.ndjson' ."
      ]
    },
    {
      "cell_type": "code",
      "source": [
        "def read_sketch_data(file_name:str, max_nr_elements:int=None, good_only:bool=True)->pd.DataFrame:\n",
        "  \"\"\"\n",
        "  Read from info about one class of sketches data.\n",
        "  If max_nr_elements==None then all info is read.\n",
        "  If good_only==False then all sketces info is saved.\n",
        "  \"\"\"\n",
        "  df = pd.DataFrame(columns= ['word', 'countrycode', 'timestamp', 'recognized', 'key_id', 'drawing'])\n",
        "  nr_elements = 0\n",
        "  with open(file_name) as f:\n",
        "    for row in f.readlines():\n",
        "      data = json.loads(row)\n",
        "      df_row = pd.DataFrame.from_dict(data,orient='index').T\n",
        "      if not df_row['recognized'].iloc[0]:\n",
        "        continue\n",
        "      df = df.append([df_row])\n",
        "      if max_nr_elements != None:\n",
        "        nr_elements+=1\n",
        "        if max_nr_elements <= nr_elements:\n",
        "          break\n",
        "  # get only good pictures\n",
        "  if good_only:\n",
        "    df = df[df.recognized == True]\n",
        "  return df\n",
        "\n",
        "def read_sketches_data(class_names:list=None,max_nr_imgs_per_cls:int=None)->pd.DataFrame:\n",
        "  \"\"\"\"\n",
        "  Read every desired class info into one dataframe.\n",
        "  \"\"\"\n",
        "  data_files = list(filter(lambda x: '.ndjson' in x, os.listdir()))\n",
        "\n",
        "  df_sketches = pd.DataFrame(columns= ['word', 'countrycode', 'timestamp', 'recognized', 'key_id', 'drawing'])\n",
        "\n",
        "  for class_name in data_files:\n",
        "    if class_names and class_name[:-len('.ndjson')] not in class_names:\n",
        "      continue\n",
        "    df_sketches = df_sketches.append([read_sketch_data(class_name, max_nr_imgs_per_cls)])\n",
        "  \n",
        "  return df_sketches"
      ],
      "metadata": {
        "id": "25Ye5V5tfGna"
      },
      "execution_count": 34,
      "outputs": []
    },
    {
      "cell_type": "code",
      "source": [
        "def vector_to_img(vector)->np.array:\n",
        "  def resize_point(x,y,size_from_original)->tuple:\n",
        "    return round(x*size_from_original),round(y*size_from_original)\n",
        "\n",
        "  stroke_locs =  [list(zip(stroke[0],stroke[1]))for stroke in vector]\n",
        "  image = np.full((100,100,3),(255,255,255),dtype=np.uint8)\n",
        "  for stroke in stroke_locs:\n",
        "    last_point = resize_point(int(stroke[0][0]),int(stroke[0][1]),0.25)\n",
        "    for x,y in stroke:\n",
        "      new_point = resize_point(int(x),int(y),0.25)\n",
        "      cv2.line(image, last_point, new_point, (0,0,0), 2)\n",
        "      last_point = new_point\n",
        "  return image\n",
        "\n",
        "def visualise_sketch(image):\n",
        "  display(Image.fromarray(image))\n",
        "\n",
        "def preprocess_cnn(df:pd.DataFrame)->tuple:\n",
        "  x=df.apply(lambda row: vector_to_img(row['drawing'])/255.0,axis=1).values \n",
        "\n",
        "  class_names = df['word'].str.get_dummies().columns\n",
        "  y = df['word'].str.get_dummies().values\n",
        "\n",
        "  return x,y,class_names"
      ],
      "metadata": {
        "id": "J3qYfQfPcWMO"
      },
      "execution_count": 45,
      "outputs": []
    },
    {
      "cell_type": "code",
      "source": [
        "df = read_sketches_data(max_nr_imgs_per_cls=3)\n",
        "df"
      ],
      "metadata": {
        "colab": {
          "base_uri": "https://localhost:8080/",
          "height": 237
        },
        "id": "pPunjlKmbraB",
        "outputId": "cf8fa21d-5564-4738-d2fd-f40572bd02f0"
      },
      "execution_count": 46,
      "outputs": [
        {
          "output_type": "execute_result",
          "data": {
            "text/plain": [
              "    word countrycode                      timestamp recognized  \\\n",
              "0  angel          US  2017-03-03 20:39:08.85189 UTC       True   \n",
              "0  angel          JP  2017-03-05 05:52:48.49661 UTC       True   \n",
              "0  angel          SE  2017-03-16 15:26:18.80779 UTC       True   \n",
              "0    ant          US  2017-03-27 00:14:57.31033 UTC       True   \n",
              "0    ant          US  2017-03-06 20:00:22.52156 UTC       True   \n",
              "0    ant          US  2017-01-23 19:53:28.35453 UTC       True   \n",
              "\n",
              "             key_id                                            drawing  \n",
              "0  6665588124418048  [[[128, 116, 99, 87, 77, 75, 80, 90, 114, 130,...  \n",
              "0  5275268287561728  [[[98, 74, 52, 46, 44, 52, 63, 82, 116, 137, 1...  \n",
              "0  5492710351831040  [[[140, 153, 174, 183, 210, 224, 227, 228, 221...  \n",
              "0  5421013154136064  [[[27, 17, 16, 21, 34, 50, 49, 34, 23, 17], [4...  \n",
              "0  4836123148812288  [[[27, 0, 7, 40, 47, 20], [0, 41, 74, 73, 41, ...  \n",
              "0  5720952853757952  [[[34, 18, 14, 4, 1, 2, 10, 18, 46, 69, 83, 89...  "
            ],
            "text/html": [
              "\n",
              "  <div id=\"df-53abe459-00ad-45b5-97e0-94c51e0c7a3c\">\n",
              "    <div class=\"colab-df-container\">\n",
              "      <div>\n",
              "<style scoped>\n",
              "    .dataframe tbody tr th:only-of-type {\n",
              "        vertical-align: middle;\n",
              "    }\n",
              "\n",
              "    .dataframe tbody tr th {\n",
              "        vertical-align: top;\n",
              "    }\n",
              "\n",
              "    .dataframe thead th {\n",
              "        text-align: right;\n",
              "    }\n",
              "</style>\n",
              "<table border=\"1\" class=\"dataframe\">\n",
              "  <thead>\n",
              "    <tr style=\"text-align: right;\">\n",
              "      <th></th>\n",
              "      <th>word</th>\n",
              "      <th>countrycode</th>\n",
              "      <th>timestamp</th>\n",
              "      <th>recognized</th>\n",
              "      <th>key_id</th>\n",
              "      <th>drawing</th>\n",
              "    </tr>\n",
              "  </thead>\n",
              "  <tbody>\n",
              "    <tr>\n",
              "      <th>0</th>\n",
              "      <td>angel</td>\n",
              "      <td>US</td>\n",
              "      <td>2017-03-03 20:39:08.85189 UTC</td>\n",
              "      <td>True</td>\n",
              "      <td>6665588124418048</td>\n",
              "      <td>[[[128, 116, 99, 87, 77, 75, 80, 90, 114, 130,...</td>\n",
              "    </tr>\n",
              "    <tr>\n",
              "      <th>0</th>\n",
              "      <td>angel</td>\n",
              "      <td>JP</td>\n",
              "      <td>2017-03-05 05:52:48.49661 UTC</td>\n",
              "      <td>True</td>\n",
              "      <td>5275268287561728</td>\n",
              "      <td>[[[98, 74, 52, 46, 44, 52, 63, 82, 116, 137, 1...</td>\n",
              "    </tr>\n",
              "    <tr>\n",
              "      <th>0</th>\n",
              "      <td>angel</td>\n",
              "      <td>SE</td>\n",
              "      <td>2017-03-16 15:26:18.80779 UTC</td>\n",
              "      <td>True</td>\n",
              "      <td>5492710351831040</td>\n",
              "      <td>[[[140, 153, 174, 183, 210, 224, 227, 228, 221...</td>\n",
              "    </tr>\n",
              "    <tr>\n",
              "      <th>0</th>\n",
              "      <td>ant</td>\n",
              "      <td>US</td>\n",
              "      <td>2017-03-27 00:14:57.31033 UTC</td>\n",
              "      <td>True</td>\n",
              "      <td>5421013154136064</td>\n",
              "      <td>[[[27, 17, 16, 21, 34, 50, 49, 34, 23, 17], [4...</td>\n",
              "    </tr>\n",
              "    <tr>\n",
              "      <th>0</th>\n",
              "      <td>ant</td>\n",
              "      <td>US</td>\n",
              "      <td>2017-03-06 20:00:22.52156 UTC</td>\n",
              "      <td>True</td>\n",
              "      <td>4836123148812288</td>\n",
              "      <td>[[[27, 0, 7, 40, 47, 20], [0, 41, 74, 73, 41, ...</td>\n",
              "    </tr>\n",
              "    <tr>\n",
              "      <th>0</th>\n",
              "      <td>ant</td>\n",
              "      <td>US</td>\n",
              "      <td>2017-01-23 19:53:28.35453 UTC</td>\n",
              "      <td>True</td>\n",
              "      <td>5720952853757952</td>\n",
              "      <td>[[[34, 18, 14, 4, 1, 2, 10, 18, 46, 69, 83, 89...</td>\n",
              "    </tr>\n",
              "  </tbody>\n",
              "</table>\n",
              "</div>\n",
              "      <button class=\"colab-df-convert\" onclick=\"convertToInteractive('df-53abe459-00ad-45b5-97e0-94c51e0c7a3c')\"\n",
              "              title=\"Convert this dataframe to an interactive table.\"\n",
              "              style=\"display:none;\">\n",
              "        \n",
              "  <svg xmlns=\"http://www.w3.org/2000/svg\" height=\"24px\"viewBox=\"0 0 24 24\"\n",
              "       width=\"24px\">\n",
              "    <path d=\"M0 0h24v24H0V0z\" fill=\"none\"/>\n",
              "    <path d=\"M18.56 5.44l.94 2.06.94-2.06 2.06-.94-2.06-.94-.94-2.06-.94 2.06-2.06.94zm-11 1L8.5 8.5l.94-2.06 2.06-.94-2.06-.94L8.5 2.5l-.94 2.06-2.06.94zm10 10l.94 2.06.94-2.06 2.06-.94-2.06-.94-.94-2.06-.94 2.06-2.06.94z\"/><path d=\"M17.41 7.96l-1.37-1.37c-.4-.4-.92-.59-1.43-.59-.52 0-1.04.2-1.43.59L10.3 9.45l-7.72 7.72c-.78.78-.78 2.05 0 2.83L4 21.41c.39.39.9.59 1.41.59.51 0 1.02-.2 1.41-.59l7.78-7.78 2.81-2.81c.8-.78.8-2.07 0-2.86zM5.41 20L4 18.59l7.72-7.72 1.47 1.35L5.41 20z\"/>\n",
              "  </svg>\n",
              "      </button>\n",
              "      \n",
              "  <style>\n",
              "    .colab-df-container {\n",
              "      display:flex;\n",
              "      flex-wrap:wrap;\n",
              "      gap: 12px;\n",
              "    }\n",
              "\n",
              "    .colab-df-convert {\n",
              "      background-color: #E8F0FE;\n",
              "      border: none;\n",
              "      border-radius: 50%;\n",
              "      cursor: pointer;\n",
              "      display: none;\n",
              "      fill: #1967D2;\n",
              "      height: 32px;\n",
              "      padding: 0 0 0 0;\n",
              "      width: 32px;\n",
              "    }\n",
              "\n",
              "    .colab-df-convert:hover {\n",
              "      background-color: #E2EBFA;\n",
              "      box-shadow: 0px 1px 2px rgba(60, 64, 67, 0.3), 0px 1px 3px 1px rgba(60, 64, 67, 0.15);\n",
              "      fill: #174EA6;\n",
              "    }\n",
              "\n",
              "    [theme=dark] .colab-df-convert {\n",
              "      background-color: #3B4455;\n",
              "      fill: #D2E3FC;\n",
              "    }\n",
              "\n",
              "    [theme=dark] .colab-df-convert:hover {\n",
              "      background-color: #434B5C;\n",
              "      box-shadow: 0px 1px 3px 1px rgba(0, 0, 0, 0.15);\n",
              "      filter: drop-shadow(0px 1px 2px rgba(0, 0, 0, 0.3));\n",
              "      fill: #FFFFFF;\n",
              "    }\n",
              "  </style>\n",
              "\n",
              "      <script>\n",
              "        const buttonEl =\n",
              "          document.querySelector('#df-53abe459-00ad-45b5-97e0-94c51e0c7a3c button.colab-df-convert');\n",
              "        buttonEl.style.display =\n",
              "          google.colab.kernel.accessAllowed ? 'block' : 'none';\n",
              "\n",
              "        async function convertToInteractive(key) {\n",
              "          const element = document.querySelector('#df-53abe459-00ad-45b5-97e0-94c51e0c7a3c');\n",
              "          const dataTable =\n",
              "            await google.colab.kernel.invokeFunction('convertToInteractive',\n",
              "                                                     [key], {});\n",
              "          if (!dataTable) return;\n",
              "\n",
              "          const docLinkHtml = 'Like what you see? Visit the ' +\n",
              "            '<a target=\"_blank\" href=https://colab.research.google.com/notebooks/data_table.ipynb>data table notebook</a>'\n",
              "            + ' to learn more about interactive tables.';\n",
              "          element.innerHTML = '';\n",
              "          dataTable['output_type'] = 'display_data';\n",
              "          await google.colab.output.renderOutput(dataTable, element);\n",
              "          const docLink = document.createElement('div');\n",
              "          docLink.innerHTML = docLinkHtml;\n",
              "          element.appendChild(docLink);\n",
              "        }\n",
              "      </script>\n",
              "    </div>\n",
              "  </div>\n",
              "  "
            ]
          },
          "metadata": {},
          "execution_count": 46
        }
      ]
    },
    {
      "cell_type": "code",
      "source": [
        "import time\n",
        "times = []\n",
        "steps=[]\n",
        "start = 100\n",
        "stop = 800\n",
        "step = 100\n",
        "for i in range(start,stop+1,step):\n",
        "  start = time.perf_counter()\n",
        "  df = read_sketches_data(max_nr_imgs_per_cls=i)\n",
        "  res = preprocess_cnn(df)\n",
        "  end = time.perf_counter()\n",
        "  spent_seconds = end-start\n",
        "  times.append(spent_seconds)\n",
        "  steps.append(i)\n",
        "  print(f'[{i}] spent seconds: {spent_seconds}')\n",
        "\n",
        "plt.plot(steps,times)\n",
        "plt.show()"
      ],
      "metadata": {
        "colab": {
          "base_uri": "https://localhost:8080/",
          "height": 411
        },
        "id": "-dItvRHnKhWm",
        "outputId": "4c9e100f-b16f-412d-bb35-495fd50de0bc"
      },
      "execution_count": 58,
      "outputs": [
        {
          "output_type": "stream",
          "name": "stdout",
          "text": [
            "[100] spent seconds: 0.5339617310000904\n",
            "[200] spent seconds: 0.989164064999386\n",
            "[300] spent seconds: 1.1677360789999511\n",
            "[400] spent seconds: 1.459689838000486\n",
            "[500] spent seconds: 2.1141811960005725\n",
            "[600] spent seconds: 2.2112648820002505\n",
            "[700] spent seconds: 2.369284226999298\n",
            "[800] spent seconds: 2.6694920359996104\n"
          ]
        },
        {
          "output_type": "display_data",
          "data": {
            "text/plain": [
              "<Figure size 432x288 with 1 Axes>"
            ],
            "image/png": "[encoded data removed]"
          },
          "metadata": {
            "needs_background": "light"
          }
        }
      ]
    },
    {
      "cell_type": "code",
      "source": [
        "visualise_sketch(vector_to_img(df['drawing'].iloc[-3]))"
      ],
      "metadata": {
        "colab": {
          "base_uri": "https://localhost:8080/",
          "height": 117
        },
        "id": "TIQ3R7hbYZVP",
        "outputId": "6141fd73-3b5a-4729-f8ce-10730773e29a"
      },
      "execution_count": 57,
      "outputs": [
        {
          "output_type": "display_data",
          "data": {
            "text/plain": [
              "<PIL.Image.Image image mode=RGB size=100x100 at 0x7FAF66644700>"
            ],
            "image/png": "[encoded data removed]"
          },
          "metadata": {}
        }
      ]
    },
    {
      "cell_type": "code",
      "source": [],
      "metadata": {
        "id": "e_OlEQBWgkNy"
      },
      "execution_count": null,
      "outputs": []
    }
  ]
}