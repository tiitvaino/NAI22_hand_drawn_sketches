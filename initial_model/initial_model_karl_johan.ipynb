{
  "nbformat": 4,
  "nbformat_minor": 0,
  "metadata": {
    "colab": {
      "provenance": [],
      "authorship_tag": "ABX9TyOJKG9PSeWr0RwDB2M4gU7k",
      "include_colab_link": true
    },
    "kernelspec": {
      "name": "python3",
      "display_name": "Python 3"
    },
    "language_info": {
      "name": "python"
    }
  },
  "cells": [
    {
      "cell_type": "markdown",
      "metadata": {
        "id": "view-in-github",
        "colab_type": "text"
      },
      "source": [
        "<a href=\"https://colab.research.google.com/github/tiitvaino/NAI22_hand_drawn_sketches/blob/main/initial_model/initial_model_karl_johan.ipynb\" target=\"_parent\"><img src=\"https://colab.research.google.com/assets/colab-badge.svg\" alt=\"Open In Colab\"/></a>"
      ]
    },
    {
      "cell_type": "code",
      "source": [
        "import numpy as np\n",
        "\n",
        "from random import random\n",
        "from numpy import array\n",
        "from numpy import cumsum\n",
        "from keras.models import Sequential\n",
        "from keras.layers import LSTM\n",
        "from keras.layers import Dense\n",
        "from keras.layers import TimeDistributed\n",
        "from keras.layers import Bidirectional"
      ],
      "metadata": {
        "id": "Qj2qaX5nkEsL"
      },
      "execution_count": 10,
      "outputs": []
    },
    {
      "cell_type": "code",
      "source": [
        "from shapely.geometry import Point, LineString, MultiLineString"
      ],
      "metadata": {
        "id": "HYSqQ91qu0OD"
      },
      "execution_count": 52,
      "outputs": []
    },
    {
      "cell_type": "code",
      "source": [
        "data1 = np.load('sketchrnn_airplane.npz', encoding='latin1', allow_pickle=True)\n",
        "data2 = np.load('sketchrnn_The Eiffel Tower.npz', encoding='latin1', allow_pickle=True)"
      ],
      "metadata": {
        "id": "GFBoNKIAp8cu"
      },
      "execution_count": 101,
      "outputs": []
    },
    {
      "cell_type": "code",
      "source": [
        "import random\n",
        "\n",
        "indexes = list(range(2000))\n",
        "\n",
        "random.shuffle(indexes)\n",
        "\n",
        "data1_i = indexes[:1000]\n",
        "data2_i = indexes[1000:]\n",
        "print(data1_i)\n",
        "print(data2_i)"
      ],
      "metadata": {
        "colab": {
          "base_uri": "https://localhost:8080/"
        },
        "id": "jmuuZ4mz7V9g",
        "outputId": "bd713319-084f-41fd-ef7d-73785b21f401"
      },
      "execution_count": 105,
      "outputs": [
        {
          "output_type": "stream",
          "name": "stdout",
          "text": [
            "[1461, 1486, 771, 886, 1513, 863, 171, 96, 1182, 1551, 1377, 359, 397, 161, 1805, 1246, 270, 540, 925, 1626, 708, 1113, 757, 35, 225, 1089, 1186, 1264, 1729, 1260, 1007, 857, 913, 1969, 680, 314, 841, 634, 388, 1505, 936, 224, 101, 1107, 1137, 1940, 1057, 195, 1216, 465, 481, 1006, 1708, 638, 998, 1055, 1606, 316, 1842, 1436, 1560, 825, 840, 1392, 582, 699, 794, 205, 275, 431, 742, 1813, 58, 1913, 652, 201, 319, 1748, 577, 355, 128, 212, 1882, 1222, 983, 943, 940, 906, 1788, 878, 448, 264, 948, 17, 1110, 127, 785, 1049, 1141, 716, 1238, 1008, 294, 1817, 1329, 1212, 1933, 1594, 1180, 1475, 1587, 1072, 1507, 873, 303, 1510, 1691, 1067, 1125, 120, 1412, 69, 827, 551, 919, 132, 514, 800, 888, 1337, 370, 1759, 1925, 945, 1136, 1880, 745, 1668, 9, 1458, 1262, 1231, 547, 344, 1972, 631, 1911, 584, 1677, 1417, 1293, 599, 104, 1644, 187, 276, 110, 1300, 1423, 1069, 1696, 1354, 917, 961, 1100, 534, 1320, 1664, 288, 641, 460, 860, 1695, 1278, 1778, 1129, 1947, 1401, 1857, 1224, 942, 1131, 885, 361, 1738, 1901, 383, 106, 1829, 1387, 20, 213, 1176, 1607, 1586, 66, 1657, 1979, 955, 1192, 513, 354, 1927, 351, 384, 479, 1854, 1521, 1414, 1150, 856, 1481, 208, 531, 271, 421, 1604, 608, 583, 472, 949, 868, 409, 1391, 996, 1627, 654, 265, 1318, 728, 323, 1428, 1091, 908, 1637, 1160, 550, 1487, 1675, 972, 1752, 142, 1024, 269, 1776, 357, 776, 806, 125, 1595, 907, 1856, 1909, 329, 190, 1062, 1010, 1564, 959, 1800, 54, 391, 1056, 1181, 159, 916, 1229, 644, 432, 8, 1236, 618, 1285, 1407, 1548, 1632, 26, 713, 1976, 1284, 522, 450, 595, 1955, 1415, 1519, 156, 1225, 482, 1623, 1211, 1277, 1530, 1617, 1304, 830, 27, 1073, 139, 1200, 1482, 1375, 1158, 318, 1316, 1204, 1041, 586, 666, 1722, 974, 1786, 1678, 1835, 149, 683, 1366, 1699, 563, 312, 1247, 661, 427, 1737, 810, 1363, 365, 1645, 1398, 1243, 1105, 1279, 1711, 1082, 632, 741, 1688, 1944, 782, 1517, 1206, 629, 1371, 404, 1059, 528, 503, 700, 1179, 990, 1603, 192, 602, 614, 402, 1646, 115, 761, 1149, 1044, 1092, 1132, 1369, 1169, 1388, 926, 1987, 1028, 1094, 200, 1040, 1271, 1194, 304, 1977, 382, 951, 1117, 1484, 138, 1516, 268, 580, 1895, 219, 808, 1608, 938, 1600, 1043, 83, 1609, 670, 1303, 118, 788, 295, 1583, 556, 921, 443, 30, 1183, 542, 173, 1344, 702, 438, 1380, 1479, 433, 1527, 1727, 1526, 97, 1090, 22, 710, 147, 1123, 892, 1324, 102, 529, 413, 1836, 1864, 247, 1988, 1383, 198, 103, 95, 1241, 463, 837, 282, 1433, 242, 927, 1046, 1578, 13, 954, 1272, 696, 1, 639, 1161, 1466, 690, 935, 1770, 230, 1301, 1965, 114, 1422, 1471, 811, 1926, 1573, 1138, 995, 1314, 57, 1702, 1338, 991, 1421, 233, 1302, 1390, 343, 25, 1568, 1501, 474, 1253, 1712, 901, 911, 1365, 677, 1106, 1565, 1892, 1025, 1847, 1797, 1393, 240, 575, 1974, 1311, 1941, 880, 982, 941, 1511, 793, 1747, 93, 1556, 239, 626, 832, 1079, 1558, 1250, 557, 349, 838, 1796, 693, 1053, 207, 804, 630, 1492, 308, 1483, 1512, 1536, 1197, 1416, 56, 1535, 333, 1741, 759, 543, 1620, 4, 865, 1930, 1611, 1265, 1532, 1399, 1574, 1938, 1897, 1445, 1467, 164, 1749, 1309, 1102, 1908, 214, 441, 1127, 1705, 967, 1230, 1374, 261, 172, 523, 1038, 895, 1840, 1871, 1542, 781, 1026, 922, 766, 1928, 228, 692, 989, 267, 762, 1249, 572, 565, 1552, 1996, 1201, 1896, 1898, 1777, 658, 675, 1966, 1826, 1980, 1763, 122, 251, 1641, 1529, 462, 787, 1662, 1468, 1159, 1765, 468, 1621, 1588, 536, 1698, 1173, 1023, 1538, 615, 1462, 293, 1891, 1518, 1709, 1810, 1273, 1341, 1432, 32, 1155, 28, 1410, 859, 910, 1226, 1559, 1809, 1290, 369, 1918, 1650, 1502, 1121, 1364, 1679, 791, 1876, 1647, 1188, 844, 1670, 1806, 1319, 573, 1503, 1153, 1223, 1771, 1690, 1386, 1050, 1209, 367, 374, 1244, 1791, 813, 1723, 1992, 437, 1473, 499, 305, 760, 81, 899, 1661, 467, 643, 1751, 701, 740, 1497, 655, 301, 380, 1851, 1408, 1162, 567, 1152, 807, 49, 348, 3, 1672, 1047, 1491, 1605, 1995, 1353, 491, 538, 150, 1746, 1742, 1828, 320, 625, 1849, 1168, 607, 665, 1799, 778, 769, 300, 48, 1948, 1905, 1245, 821, 590, 470, 1870, 1420, 706, 181, 1439, 1591, 736, 1384, 1781, 566, 1844, 1490, 62, 1767, 1469, 1793, 600, 322, 966, 1283, 287, 1000, 636, 229, 90, 504, 931, 51, 188, 1566, 992, 1164, 1769, 306, 1683, 1234, 179, 1575, 1539, 1994, 1346, 1580, 874, 1296, 1703, 815, 673, 302, 1640, 259, 1654, 194, 1305, 1255, 1291, 773, 340, 1523, 957, 663, 929, 549, 1983, 1016, 971, 286, 1474, 1313, 425, 1952, 1959, 1281, 1838, 1196, 1848, 912, 406, 447, 1815, 664, 1343, 1310, 668, 1464, 1348, 1257, 883, 1269, 67, 1953, 1205, 786, 1537, 158, 177, 1063, 42, 445, 727, 1730, 215, 285, 937, 749, 1717, 1798, 1335, 1839, 1443, 1508, 816, 819, 681, 1287, 601, 1403, 1018, 947, 353, 1648, 1618, 1584, 1631, 140, 508, 975, 1275, 46, 505, 1714, 904, 352, 552, 725, 1902, 1086, 272, 594, 1916, 1419, 1134, 1613, 1807, 1619, 222, 1660, 1875, 653, 1841, 1783, 1973, 743, 1744, 524, 722, 1715, 1733, 337, 107, 471, 1030, 1124, 571, 963, 1866, 98, 1768, 108, 466, 52, 1545, 1504, 962, 1054, 238, 843, 1171, 1327, 1029, 209, 136, 1112, 155, 1021, 1525, 0, 671, 182, 1332, 861, 1721, 373, 378, 484, 1198, 1120, 1789, 656, 1068, 637, 1232, 1804, 396, 389, 440, 1357, 628, 1549, 1888, 676, 616, 932, 1191, 1185, 65, 1886, 1726, 297, 711, 604, 315, 1961, 105, 1154, 564, 291, 1879, 88, 1814, 244, 1379, 1172, 405, 1554, 850, 756, 1912, 1165, 1936, 780, 137, 1956, 1451, 134, 1389, 429, 326, 1612, 243, 296, 1334, 350, 1943, 1547, 956, 196, 75, 1140, 1684, 411, 38, 1478, 1292, 1409, 78, 399, 1093, 1052, 519, 60, 1719, 1382, 1652, 1286, 375, 518, 812, 1441, 750, 1034, 1004, 1850, 958, 1917, 1495, 341]\n",
            "[1376, 1460, 1899, 85, 1665, 1214, 854, 1184, 649, 667, 1084, 889, 1570, 408, 1213, 14, 953, 598, 1894, 1195, 1345, 688, 1520, 1884, 900, 1051, 970, 232, 1986, 145, 1187, 1633, 1837, 1562, 801, 1411, 965, 1939, 1946, 1465, 1039, 623, 852, 747, 347, 1555, 420, 1514, 660, 1215, 979, 358, 1009, 453, 1685, 395, 824, 24, 311, 1669, 1924, 1704, 1207, 461, 1887, 1693, 45, 412, 1455, 273, 879, 1874, 299, 1077, 1689, 855, 1122, 12, 1166, 1593, 464, 1780, 498, 1208, 1098, 559, 1877, 1863, 1178, 73, 241, 494, 1350, 993, 1758, 695, 1997, 909, 327, 37, 1964, 324, 1803, 1356, 829, 1003, 1929, 1671, 1658, 1070, 650, 1101, 674, 1951, 131, 1259, 721, 1784, 1610, 290, 451, 1624, 946, 1042, 720, 1754, 262, 40, 1740, 597, 687, 260, 1108, 1239, 1923, 1397, 1883, 847, 976, 561, 1426, 1156, 1833, 47, 1553, 891, 1139, 934, 204, 964, 1773, 1761, 1322, 345, 1202, 1425, 183, 1058, 1867, 1452, 111, 274, 342, 1801, 867, 44, 560, 1697, 1437, 1577, 1821, 798, 439, 1832, 469, 1282, 894, 1032, 184, 235, 1819, 1493, 1900, 336, 1868, 1999, 1288, 562, 248, 1569, 1869, 199, 390, 1333, 1114, 924, 501, 289, 1686, 1083, 1743, 99, 1728, 1824, 1524, 1921, 1881, 987, 684, 18, 381, 477, 544, 1103, 1910, 724, 256, 697, 1449, 191, 444, 79, 779, 1534, 1080, 915, 1597, 1873, 698, 76, 162, 640, 1970, 1656, 1252, 1001, 777, 1263, 555, 279, 1095, 881, 835, 1998, 55, 789, 730, 648, 422, 1367, 144, 758, 1735, 175, 770, 506, 1088, 1572, 266, 379, 1546, 1037, 169, 918, 1827, 392, 64, 1013, 558, 1949, 1935, 1081, 1217, 1442, 1485, 1681, 368, 1764, 146, 401, 113, 1190, 1942, 1628, 253, 1298, 828, 620, 1454, 521, 414, 394, 1328, 1775, 686, 1372, 738, 495, 642, 831, 80, 585, 622, 703, 581, 1297, 415, 746, 1075, 280, 310, 545, 709, 1616, 574, 775, 487, 1915, 763, 510, 245, 1280, 1823, 905, 1440, 1404, 1116, 1381, 11, 578, 1097, 416, 283, 428, 1772, 403, 109, 478, 871, 1203, 612, 1779, 476, 502, 647, 1630, 362, 221, 719, 160, 1757, 63, 933, 619, 6, 851, 1713, 1700, 869, 407, 1653, 1144, 1174, 1142, 1736, 1031, 292, 1906, 792, 1087, 33, 1361, 1825, 1634, 1598, 1336, 1045, 890, 870, 331, 978, 520, 589, 1463, 1515, 715, 123, 100, 1755, 1349, 732, 1687, 34, 1331, 969, 430, 1427, 167, 1405, 735, 70, 489, 950, 533, 1299, 1147, 7, 423, 1792, 1489, 1682, 92, 154, 87, 1170, 707, 1753, 525, 363, 332, 480, 61, 117, 1071, 1812, 284, 1396, 71, 246, 1903, 309, 163, 1853, 1531, 1629, 1199, 1509, 1362, 1151, 579, 1766, 1978, 1601, 1347, 593, 424, 385, 1561, 250, 980, 1724, 999, 255, 1750, 151, 1242, 1315, 1557, 1878, 1982, 1963, 1550, 1576, 410, 1571, 1177, 537, 1189, 768, 717, 1950, 1431, 490, 313, 393, 1061, 1115, 1227, 1307, 554, 1655, 1480, 121, 1022, 823, 1355, 1258, 541, 902, 1981, 143, 19, 1240, 1694, 839, 1563, 1394, 1289, 1373, 751, 875, 1993, 1960, 685, 605, 152, 1739, 997, 1919, 1934, 633, 1118, 659, 1843, 1104, 553, 360, 263, 592, 116, 1385, 896, 682, 1157, 1582, 21, 10, 1002, 712, 718, 500, 617, 1667, 1406, 526, 170, 826, 944, 1251, 176, 1078, 1450, 984, 515, 371, 739, 1096, 1459, 321, 15, 645, 1589, 372, 799, 691, 258, 203, 1119, 1472, 488, 753, 621, 1276, 1453, 968, 1145, 1295, 864, 1130, 734, 1014, 797, 726, 930, 651, 1642, 1429, 497, 317, 588, 50, 986, 1659, 473, 822, 802, 960, 679, 1076, 872, 452, 1855, 511, 1027, 1707, 714, 1756, 1438, 530, 1676, 434, 1635, 1036, 77, 1710, 133, 1446, 1400, 1020, 1233, 803, 923, 1413, 694, 1985, 1033, 846, 1990, 1035, 817, 744, 1012, 168, 1074, 1424, 1448, 1306, 1663, 1323, 1500, 217, 646, 1193, 704, 748, 1785, 257, 82, 211, 206, 1099, 1143, 339, 1541, 377, 185, 1430, 193, 338, 1268, 587, 426, 836, 1261, 1862, 877, 535, 1221, 1533, 1872, 1811, 928, 1274, 1991, 1528, 818, 1352, 157, 485, 1861, 89, 1005, 603, 1395, 126, 512, 569, 609, 307, 1614, 1774, 1673, 1971, 1235, 1831, 1220, 1148, 1267, 611, 952, 805, 346, 849, 1111, 1133, 737, 1360, 1706, 72, 216, 442, 1907, 459, 570, 866, 1795, 1378, 197, 1889, 1732, 189, 496, 591, 1126, 834, 887, 1254, 74, 1219, 1651, 1782, 252, 914, 1962, 1210, 1931, 417, 325, 1321, 400, 1893, 539, 1592, 1544, 1418, 1599, 457, 1638, 988, 231, 1447, 1820, 1818, 1615, 153, 226, 356, 1498, 1163, 1920, 180, 783, 1643, 1358, 483, 1639, 809, 39, 1488, 1725, 1340, 1368, 166, 985, 254, 848, 795, 148, 1048, 130, 752, 796, 973, 1860, 5, 135, 1808, 1834, 1596, 624, 23, 858, 509, 627, 1325, 335, 165, 853, 882, 1175, 141, 328, 939, 41, 833, 1649, 334, 723, 1496, 1858, 754, 1731, 820, 1954, 16, 1846, 1975, 1128, 1822, 418, 2, 1017, 845, 893, 1317, 1922, 1294, 1802, 774, 493, 1585, 236, 1865, 59, 1444, 784, 1015, 755, 1270, 1567, 53, 84, 527, 1852, 546, 387, 1590, 486, 1625, 1312, 1790, 842, 516, 1622, 1477, 1581, 1494, 1237, 1885, 1718, 1330, 1989, 1339, 1734, 220, 576, 1218, 1457, 994, 36, 1787, 1506, 1932, 1967, 456, 733, 1266, 1359, 689, 814, 1167, 1540, 1228, 1680, 119, 237, 330, 705, 398, 1890, 884, 186, 606, 1636, 1326, 94, 1602, 376, 129, 112, 1674, 764, 1499, 178, 210, 1435, 1109, 277, 174, 1256, 1248, 43, 1543, 1816, 419, 1904, 662, 223, 657, 1370, 765, 29, 386, 249, 1476, 903, 278, 1066, 1579, 1666, 568, 1745, 977, 898, 790, 729, 475, 981, 1760, 366, 517, 1968, 1937, 436, 364, 1830, 862, 635, 767, 772, 613, 672, 897, 218, 86, 454, 1470, 492, 1720, 507, 124, 1146, 1011, 458, 1064, 446, 596, 1434, 1958, 678, 1522, 1945, 449, 234, 1762, 1845, 1914, 1402, 876, 1794, 68, 1060, 281, 532, 1085, 1308, 1859, 1065, 1984, 1692, 202, 298, 227, 610, 435, 91, 1456, 731, 1957, 548, 1351, 1019, 31, 920, 1701, 669, 1716, 1135, 455, 1342]\n"
          ]
        }
      ]
    },
    {
      "cell_type": "code",
      "source": [
        "sizes = []\n",
        "for i in data1['test']:\n",
        "  sizes.append(i.shape[0])\n",
        "\n",
        "print(max(sizes))\n",
        "print(data1['test'].shape)\n",
        "print(data2['test'].shape)"
      ],
      "metadata": {
        "colab": {
          "base_uri": "https://localhost:8080/"
        },
        "id": "3D5QVahCw6uG",
        "outputId": "ace3b208-28bc-44be-da3d-c96dff67e310"
      },
      "execution_count": 107,
      "outputs": [
        {
          "output_type": "stream",
          "name": "stdout",
          "text": [
            "99\n",
            "(2500,)\n",
            "(2500,)\n"
          ]
        }
      ]
    },
    {
      "cell_type": "code",
      "source": [
        "X = []\n",
        "y = []\n",
        "i_1 = 0\n",
        "i_2 = 0\n",
        "\n",
        "for i in range(2000):\n",
        "  if i in data1_i:\n",
        "    sketch = data1['test'][i_1]\n",
        "    for j in range(100-sketch.shape[0]):\n",
        "      sketch = np.concatenate((np.zeros((1,3), dtype=int), sketch))\n",
        "    X.append(sketch)\n",
        "    y.append([0])\n",
        "    i_1 += 1\n",
        "  else:\n",
        "    sketch = data2['test'][i_2]\n",
        "    for j in range(100-sketch.shape[0]):\n",
        "      sketch = np.concatenate((np.zeros((1,3), dtype=int), sketch))\n",
        "    X.append(sketch)\n",
        "    y.append([1])\n",
        "    i_2 += 1"
      ],
      "metadata": {
        "id": "Y3pl6j-w8kty"
      },
      "execution_count": 164,
      "outputs": []
    },
    {
      "cell_type": "code",
      "source": [
        "ls = []\n",
        "lines = []\n",
        "last = (0, 0)\n",
        "for i in data1['test'][0]:\n",
        "  if i[2]:\n",
        "    ls.append((last[0]-i[0], last[1]-i[1]))\n",
        "    lines.append(LineString(ls))\n",
        "    ls = []\n",
        "    #ls = [(last[0]+i[0], last[1]+i[1])]\n",
        "    last = (last[0]-i[0], last[1]-i[1])\n",
        "  else:\n",
        "    ls.append((last[0]-i[0], last[1]-i[1]))\n",
        "    last = (last[0]-i[0], last[1]-i[1])\n",
        "\n",
        "MultiLineString(lines)"
      ],
      "metadata": {
        "colab": {
          "base_uri": "https://localhost:8080/",
          "height": 276
        },
        "id": "GrG67vs4p8fu",
        "outputId": "5a18059a-1606-4e65-9539-0659f79b05d5"
      },
      "execution_count": 90,
      "outputs": [
        {
          "output_type": "execute_result",
          "data": {
            "text/plain": [
              "<shapely.geometry.multilinestring.MultiLineString at 0x7f7261f06090>"
            ],
            "image/svg+xml": "<svg xmlns=\"http://www.w3.org/2000/svg\" xmlns:xlink=\"http://www.w3.org/1999/xlink\" width=\"300\" height=\"255.16000000000003\" viewBox=\"-373.08 -92.08 434.15999999999997 255.16000000000003\" preserveAspectRatio=\"xMinYMin meet\"><g transform=\"matrix(1,0,0,-1,0,71.00000000000001)\"><g><polyline fill=\"none\" stroke=\"#66cc99\" stroke-width=\"2.8943999999999996\" points=\"-40.0,10.0 -92.0,11.0 -118.0,8.0 -136.0,-1.0 -223.0,1.0 -283.0,-4.0 -307.0,-12.0 -321.0,-12.0 -328.0,11.0 -344.0,13.0 -351.0,11.0 -357.0,-5.0 -350.0,-43.0 -338.0,-49.0 -333.0,-47.0 -324.0,-35.0 -311.0,-31.0 -276.0,-30.0 -226.0,-39.0 -156.0,-32.0 -96.0,-30.0 -37.0,-42.0 -19.0,-42.0 37.0,-32.0 43.0,-26.0 45.0,-21.0 37.0,-12.0 1.0,-3.0\" opacity=\"0.8\" /><polyline fill=\"none\" stroke=\"#66cc99\" stroke-width=\"2.8943999999999996\" points=\"-100.0,8.0 -99.0,29.0 -104.0,46.0 -137.0,114.0 -147.0,131.0 -164.0,147.0 -175.0,143.0 -184.0,124.0 -188.0,101.0 -187.0,56.0 -177.0,31.0 -154.0,-1.0 -145.0,-25.0\" opacity=\"0.8\" /><polyline fill=\"none\" stroke=\"#66cc99\" stroke-width=\"2.8943999999999996\" points=\"-109.0,-36.0 -108.0,-68.0 -120.0,-76.0 -134.0,-75.0 -147.0,-61.0 -148.0,-24.0\" opacity=\"0.8\" /><polyline fill=\"none\" stroke=\"#66cc99\" stroke-width=\"2.8943999999999996\" points=\"-7.0,3.0 -12.0,-19.0 -17.0,-22.0 -25.0,-21.0 -42.0,-9.0 -42.0,-3.0 -40.0,2.0 -24.0,6.0\" opacity=\"0.8\" /></g></g></svg>"
          },
          "metadata": {},
          "execution_count": 90
        }
      ]
    },
    {
      "cell_type": "code",
      "source": [
        "# create a sequence classification instance\n",
        "def get_sequence(n_timesteps):\n",
        "    # create a sequence of random numbers in [0,1]\n",
        "    X = array([random.random() for _ in range(n_timesteps)])\n",
        "    # calculate cut-off value to change class values\n",
        "    limit = n_timesteps/4.0\n",
        "    # determine the class outcome for each item in cumulative sequence\n",
        "    y = array([0 if x < limit else 1 for x in cumsum(X)])\n",
        "    # reshape input and output data to be suitable for LSTMs\n",
        "    X = X.reshape(1, n_timesteps, 1)\n",
        "    y = y.reshape(1, n_timesteps, 1)\n",
        "    return X, y"
      ],
      "metadata": {
        "id": "zTscgUr5nC_4"
      },
      "execution_count": 152,
      "outputs": []
    },
    {
      "cell_type": "code",
      "source": [
        "# define problem properties\n",
        "n_timesteps = 3\n",
        "# define LSTM\n",
        "model = Sequential()\n",
        "model.add(Bidirectional(LSTM(20, return_sequences=True), input_shape=(n_timesteps, 1)))\n",
        "model.add(TimeDistributed(Dense(1, activation='sigmoid')))\n",
        "model.compile(loss='binary_crossentropy', optimizer='adam', metrics=['accuracy'])\n",
        "model.summary()\n",
        "# train LSTM\n",
        "for epoch in range(1000):\n",
        "    # generate new random sequence\n",
        "    X_x,y_y = get_sequence(n_timesteps)\n",
        "    #print(X_x)\n",
        "    # fit model for one epoch on this sequence\n",
        "    model.fit(X_x, y_y, epochs=1, batch_size=1, verbose=0)\n",
        "# evaluate LSTM\n",
        "X_x,y_y = get_sequence(n_timesteps)\n",
        "predict_x=model.predict(X_x) \n",
        "#classes_x=np.argmax(predict_x,axis=1)\n",
        "\n",
        "for i in range(n_timesteps):\n",
        "    print('Expected:', y_y[0, i], 'Predicted', predict_x[0, i])\n"
      ],
      "metadata": {
        "colab": {
          "base_uri": "https://localhost:8080/",
          "height": 658
        },
        "id": "IxUrHxtlnIHH",
        "outputId": "8b74f607-16bb-4bae-dfcc-d33cba7a2e2b"
      },
      "execution_count": 160,
      "outputs": [
        {
          "output_type": "stream",
          "name": "stdout",
          "text": [
            "Model: \"sequential_38\"\n",
            "_________________________________________________________________\n",
            " Layer (type)                Output Shape              Param #   \n",
            "=================================================================\n",
            " bidirectional_53 (Bidirecti  (None, 3, 40)            3520      \n",
            " onal)                                                           \n",
            "                                                                 \n",
            " time_distributed_19 (TimeDi  (None, 3, 1)             41        \n",
            " stributed)                                                      \n",
            "                                                                 \n",
            "=================================================================\n",
            "Total params: 3,561\n",
            "Trainable params: 3,561\n",
            "Non-trainable params: 0\n",
            "_________________________________________________________________\n"
          ]
        },
        {
          "output_type": "error",
          "ename": "KeyboardInterrupt",
          "evalue": "ignored",
          "traceback": [
            "\u001b[0;31m---------------------------------------------------------------------------\u001b[0m",
            "\u001b[0;31mKeyboardInterrupt\u001b[0m                         Traceback (most recent call last)",
            "\u001b[0;32m<ipython-input-160-313f2dba4827>\u001b[0m in \u001b[0;36m<module>\u001b[0;34m\u001b[0m\n\u001b[1;32m     13\u001b[0m     \u001b[0;31m#print(X_x)\u001b[0m\u001b[0;34m\u001b[0m\u001b[0;34m\u001b[0m\u001b[0;34m\u001b[0m\u001b[0m\n\u001b[1;32m     14\u001b[0m     \u001b[0;31m# fit model for one epoch on this sequence\u001b[0m\u001b[0;34m\u001b[0m\u001b[0;34m\u001b[0m\u001b[0;34m\u001b[0m\u001b[0m\n\u001b[0;32m---> 15\u001b[0;31m     \u001b[0mmodel\u001b[0m\u001b[0;34m.\u001b[0m\u001b[0mfit\u001b[0m\u001b[0;34m(\u001b[0m\u001b[0mX_x\u001b[0m\u001b[0;34m,\u001b[0m \u001b[0my_y\u001b[0m\u001b[0;34m,\u001b[0m \u001b[0mepochs\u001b[0m\u001b[0;34m=\u001b[0m\u001b[0;36m1\u001b[0m\u001b[0;34m,\u001b[0m \u001b[0mbatch_size\u001b[0m\u001b[0;34m=\u001b[0m\u001b[0;36m1\u001b[0m\u001b[0;34m,\u001b[0m \u001b[0mverbose\u001b[0m\u001b[0;34m=\u001b[0m\u001b[0;36m0\u001b[0m\u001b[0;34m)\u001b[0m\u001b[0;34m\u001b[0m\u001b[0;34m\u001b[0m\u001b[0m\n\u001b[0m\u001b[1;32m     16\u001b[0m \u001b[0;31m# evaluate LSTM\u001b[0m\u001b[0;34m\u001b[0m\u001b[0;34m\u001b[0m\u001b[0;34m\u001b[0m\u001b[0m\n\u001b[1;32m     17\u001b[0m \u001b[0mX_x\u001b[0m\u001b[0;34m,\u001b[0m\u001b[0my_y\u001b[0m \u001b[0;34m=\u001b[0m \u001b[0mget_sequence\u001b[0m\u001b[0;34m(\u001b[0m\u001b[0mn_timesteps\u001b[0m\u001b[0;34m)\u001b[0m\u001b[0;34m\u001b[0m\u001b[0;34m\u001b[0m\u001b[0m\n",
            "\u001b[0;32m/usr/local/lib/python3.7/dist-packages/keras/engine/training_v1.py\u001b[0m in \u001b[0;36mfit\u001b[0;34m(self, x, y, batch_size, epochs, verbose, callbacks, validation_split, validation_data, shuffle, class_weight, sample_weight, initial_epoch, steps_per_epoch, validation_steps, validation_freq, max_queue_size, workers, use_multiprocessing, **kwargs)\u001b[0m\n\u001b[1;32m    793\u001b[0m         \u001b[0mmax_queue_size\u001b[0m\u001b[0;34m=\u001b[0m\u001b[0mmax_queue_size\u001b[0m\u001b[0;34m,\u001b[0m\u001b[0;34m\u001b[0m\u001b[0;34m\u001b[0m\u001b[0m\n\u001b[1;32m    794\u001b[0m         \u001b[0mworkers\u001b[0m\u001b[0;34m=\u001b[0m\u001b[0mworkers\u001b[0m\u001b[0;34m,\u001b[0m\u001b[0;34m\u001b[0m\u001b[0;34m\u001b[0m\u001b[0m\n\u001b[0;32m--> 795\u001b[0;31m         use_multiprocessing=use_multiprocessing)\n\u001b[0m\u001b[1;32m    796\u001b[0m \u001b[0;34m\u001b[0m\u001b[0m\n\u001b[1;32m    797\u001b[0m   def evaluate(self,\n",
            "\u001b[0;32m/usr/local/lib/python3.7/dist-packages/keras/engine/training_arrays_v1.py\u001b[0m in \u001b[0;36mfit\u001b[0;34m(self, model, x, y, batch_size, epochs, verbose, callbacks, validation_split, validation_data, shuffle, class_weight, sample_weight, initial_epoch, steps_per_epoch, validation_steps, validation_freq, **kwargs)\u001b[0m\n\u001b[1;32m    656\u001b[0m         \u001b[0mvalidation_steps\u001b[0m\u001b[0;34m=\u001b[0m\u001b[0mvalidation_steps\u001b[0m\u001b[0;34m,\u001b[0m\u001b[0;34m\u001b[0m\u001b[0;34m\u001b[0m\u001b[0m\n\u001b[1;32m    657\u001b[0m         \u001b[0mvalidation_freq\u001b[0m\u001b[0;34m=\u001b[0m\u001b[0mvalidation_freq\u001b[0m\u001b[0;34m,\u001b[0m\u001b[0;34m\u001b[0m\u001b[0;34m\u001b[0m\u001b[0m\n\u001b[0;32m--> 658\u001b[0;31m         steps_name='steps_per_epoch')\n\u001b[0m\u001b[1;32m    659\u001b[0m \u001b[0;34m\u001b[0m\u001b[0m\n\u001b[1;32m    660\u001b[0m   def evaluate(self,\n",
            "\u001b[0;32m/usr/local/lib/python3.7/dist-packages/keras/engine/training_arrays_v1.py\u001b[0m in \u001b[0;36mmodel_iteration\u001b[0;34m(model, inputs, targets, sample_weights, batch_size, epochs, verbose, callbacks, val_inputs, val_targets, val_sample_weights, shuffle, initial_epoch, steps_per_epoch, validation_steps, validation_freq, mode, validation_in_fit, prepared_feed_values_from_dataset, steps_name, **kwargs)\u001b[0m\n\u001b[1;32m    258\u001b[0m       \u001b[0;31m# Collecting and resetting metrics has non-zero cost and will needlessly\u001b[0m\u001b[0;34m\u001b[0m\u001b[0;34m\u001b[0m\u001b[0;34m\u001b[0m\u001b[0m\n\u001b[1;32m    259\u001b[0m       \u001b[0;31m# slow down model.predict.\u001b[0m\u001b[0;34m\u001b[0m\u001b[0;34m\u001b[0m\u001b[0;34m\u001b[0m\u001b[0m\n\u001b[0;32m--> 260\u001b[0;31m       \u001b[0mmodel\u001b[0m\u001b[0;34m.\u001b[0m\u001b[0mreset_metrics\u001b[0m\u001b[0;34m(\u001b[0m\u001b[0;34m)\u001b[0m\u001b[0;34m\u001b[0m\u001b[0;34m\u001b[0m\u001b[0m\n\u001b[0m\u001b[1;32m    261\u001b[0m     \u001b[0;32mif\u001b[0m \u001b[0mmode\u001b[0m \u001b[0;34m==\u001b[0m \u001b[0mModeKeys\u001b[0m\u001b[0;34m.\u001b[0m\u001b[0mTRAIN\u001b[0m\u001b[0;34m:\u001b[0m\u001b[0;34m\u001b[0m\u001b[0;34m\u001b[0m\u001b[0m\n\u001b[1;32m    262\u001b[0m       \u001b[0mcallbacks\u001b[0m\u001b[0;34m.\u001b[0m\u001b[0mon_epoch_begin\u001b[0m\u001b[0;34m(\u001b[0m\u001b[0mepoch\u001b[0m\u001b[0;34m,\u001b[0m \u001b[0mepoch_logs\u001b[0m\u001b[0;34m)\u001b[0m\u001b[0;34m\u001b[0m\u001b[0;34m\u001b[0m\u001b[0m\n",
            "\u001b[0;32m/usr/local/lib/python3.7/dist-packages/keras/engine/training_v1.py\u001b[0m in \u001b[0;36mreset_metrics\u001b[0;34m(self)\u001b[0m\n\u001b[1;32m    982\u001b[0m     \u001b[0mmetrics\u001b[0m \u001b[0;34m=\u001b[0m \u001b[0mself\u001b[0m\u001b[0;34m.\u001b[0m\u001b[0m_get_training_eval_metrics\u001b[0m\u001b[0;34m(\u001b[0m\u001b[0;34m)\u001b[0m\u001b[0;34m\u001b[0m\u001b[0;34m\u001b[0m\u001b[0m\n\u001b[1;32m    983\u001b[0m     \u001b[0;32mfor\u001b[0m \u001b[0mm\u001b[0m \u001b[0;32min\u001b[0m \u001b[0mmetrics\u001b[0m\u001b[0;34m:\u001b[0m\u001b[0;34m\u001b[0m\u001b[0;34m\u001b[0m\u001b[0m\n\u001b[0;32m--> 984\u001b[0;31m       \u001b[0mm\u001b[0m\u001b[0;34m.\u001b[0m\u001b[0mreset_state\u001b[0m\u001b[0;34m(\u001b[0m\u001b[0;34m)\u001b[0m\u001b[0;34m\u001b[0m\u001b[0;34m\u001b[0m\u001b[0m\n\u001b[0m\u001b[1;32m    985\u001b[0m \u001b[0;34m\u001b[0m\u001b[0m\n\u001b[1;32m    986\u001b[0m     \u001b[0;31m# Reset metrics on all the distributed (cloned) models.\u001b[0m\u001b[0;34m\u001b[0m\u001b[0;34m\u001b[0m\u001b[0;34m\u001b[0m\u001b[0m\n",
            "\u001b[0;32m/usr/local/lib/python3.7/dist-packages/keras/metrics/base_metric.py\u001b[0m in \u001b[0;36mreset_state\u001b[0;34m(self)\u001b[0m\n\u001b[1;32m    251\u001b[0m       \u001b[0;32mreturn\u001b[0m \u001b[0mself\u001b[0m\u001b[0;34m.\u001b[0m\u001b[0mreset_states\u001b[0m\u001b[0;34m(\u001b[0m\u001b[0;34m)\u001b[0m\u001b[0;34m\u001b[0m\u001b[0;34m\u001b[0m\u001b[0m\n\u001b[1;32m    252\u001b[0m     \u001b[0;32melse\u001b[0m\u001b[0;34m:\u001b[0m\u001b[0;34m\u001b[0m\u001b[0;34m\u001b[0m\u001b[0m\n\u001b[0;32m--> 253\u001b[0;31m       \u001b[0mbackend\u001b[0m\u001b[0;34m.\u001b[0m\u001b[0mbatch_set_value\u001b[0m\u001b[0;34m(\u001b[0m\u001b[0;34m[\u001b[0m\u001b[0;34m(\u001b[0m\u001b[0mv\u001b[0m\u001b[0;34m,\u001b[0m \u001b[0;36m0\u001b[0m\u001b[0;34m)\u001b[0m \u001b[0;32mfor\u001b[0m \u001b[0mv\u001b[0m \u001b[0;32min\u001b[0m \u001b[0mself\u001b[0m\u001b[0;34m.\u001b[0m\u001b[0mvariables\u001b[0m\u001b[0;34m]\u001b[0m\u001b[0;34m)\u001b[0m\u001b[0;34m\u001b[0m\u001b[0;34m\u001b[0m\u001b[0m\n\u001b[0m\u001b[1;32m    254\u001b[0m \u001b[0;34m\u001b[0m\u001b[0m\n\u001b[1;32m    255\u001b[0m   \u001b[0;34m@\u001b[0m\u001b[0mabc\u001b[0m\u001b[0;34m.\u001b[0m\u001b[0mabstractmethod\u001b[0m\u001b[0;34m\u001b[0m\u001b[0;34m\u001b[0m\u001b[0m\n",
            "\u001b[0;32m/usr/local/lib/python3.7/dist-packages/tensorflow/python/util/traceback_utils.py\u001b[0m in \u001b[0;36merror_handler\u001b[0;34m(*args, **kwargs)\u001b[0m\n\u001b[1;32m    148\u001b[0m     \u001b[0mfiltered_tb\u001b[0m \u001b[0;34m=\u001b[0m \u001b[0;32mNone\u001b[0m\u001b[0;34m\u001b[0m\u001b[0;34m\u001b[0m\u001b[0m\n\u001b[1;32m    149\u001b[0m     \u001b[0;32mtry\u001b[0m\u001b[0;34m:\u001b[0m\u001b[0;34m\u001b[0m\u001b[0;34m\u001b[0m\u001b[0m\n\u001b[0;32m--> 150\u001b[0;31m       \u001b[0;32mreturn\u001b[0m \u001b[0mfn\u001b[0m\u001b[0;34m(\u001b[0m\u001b[0;34m*\u001b[0m\u001b[0margs\u001b[0m\u001b[0;34m,\u001b[0m \u001b[0;34m**\u001b[0m\u001b[0mkwargs\u001b[0m\u001b[0;34m)\u001b[0m\u001b[0;34m\u001b[0m\u001b[0;34m\u001b[0m\u001b[0m\n\u001b[0m\u001b[1;32m    151\u001b[0m     \u001b[0;32mexcept\u001b[0m \u001b[0mException\u001b[0m \u001b[0;32mas\u001b[0m \u001b[0me\u001b[0m\u001b[0;34m:\u001b[0m\u001b[0;34m\u001b[0m\u001b[0;34m\u001b[0m\u001b[0m\n\u001b[1;32m    152\u001b[0m       \u001b[0mfiltered_tb\u001b[0m \u001b[0;34m=\u001b[0m \u001b[0m_process_traceback_frames\u001b[0m\u001b[0;34m(\u001b[0m\u001b[0me\u001b[0m\u001b[0;34m.\u001b[0m\u001b[0m__traceback__\u001b[0m\u001b[0;34m)\u001b[0m\u001b[0;34m\u001b[0m\u001b[0;34m\u001b[0m\u001b[0m\n",
            "\u001b[0;32m/usr/local/lib/python3.7/dist-packages/tensorflow/python/util/dispatch.py\u001b[0m in \u001b[0;36mop_dispatch_handler\u001b[0;34m(*args, **kwargs)\u001b[0m\n\u001b[1;32m   1080\u001b[0m       \u001b[0;31m# Fallback dispatch system (dispatch v1):\u001b[0m\u001b[0;34m\u001b[0m\u001b[0;34m\u001b[0m\u001b[0;34m\u001b[0m\u001b[0m\n\u001b[1;32m   1081\u001b[0m       \u001b[0;32mtry\u001b[0m\u001b[0;34m:\u001b[0m\u001b[0;34m\u001b[0m\u001b[0;34m\u001b[0m\u001b[0m\n\u001b[0;32m-> 1082\u001b[0;31m         \u001b[0;32mreturn\u001b[0m \u001b[0mdispatch_target\u001b[0m\u001b[0;34m(\u001b[0m\u001b[0;34m*\u001b[0m\u001b[0margs\u001b[0m\u001b[0;34m,\u001b[0m \u001b[0;34m**\u001b[0m\u001b[0mkwargs\u001b[0m\u001b[0;34m)\u001b[0m\u001b[0;34m\u001b[0m\u001b[0;34m\u001b[0m\u001b[0m\n\u001b[0m\u001b[1;32m   1083\u001b[0m       \u001b[0;32mexcept\u001b[0m \u001b[0;34m(\u001b[0m\u001b[0mTypeError\u001b[0m\u001b[0;34m,\u001b[0m \u001b[0mValueError\u001b[0m\u001b[0;34m)\u001b[0m\u001b[0;34m:\u001b[0m\u001b[0;34m\u001b[0m\u001b[0;34m\u001b[0m\u001b[0m\n\u001b[1;32m   1084\u001b[0m         \u001b[0;31m# Note: convert_to_eager_tensor currently raises a ValueError, not a\u001b[0m\u001b[0;34m\u001b[0m\u001b[0;34m\u001b[0m\u001b[0;34m\u001b[0m\u001b[0m\n",
            "\u001b[0;32m/usr/local/lib/python3.7/dist-packages/keras/backend.py\u001b[0m in \u001b[0;36mbatch_set_value\u001b[0;34m(tuples)\u001b[0m\n\u001b[1;32m   4051\u001b[0m           \u001b[0massign_ops\u001b[0m\u001b[0;34m.\u001b[0m\u001b[0mappend\u001b[0m\u001b[0;34m(\u001b[0m\u001b[0massign_op\u001b[0m\u001b[0;34m)\u001b[0m\u001b[0;34m\u001b[0m\u001b[0;34m\u001b[0m\u001b[0m\n\u001b[1;32m   4052\u001b[0m           \u001b[0mfeed_dict\u001b[0m\u001b[0;34m[\u001b[0m\u001b[0massign_placeholder\u001b[0m\u001b[0;34m]\u001b[0m \u001b[0;34m=\u001b[0m \u001b[0mvalue\u001b[0m\u001b[0;34m\u001b[0m\u001b[0;34m\u001b[0m\u001b[0m\n\u001b[0;32m-> 4053\u001b[0;31m         \u001b[0mget_session\u001b[0m\u001b[0;34m(\u001b[0m\u001b[0;34m)\u001b[0m\u001b[0;34m.\u001b[0m\u001b[0mrun\u001b[0m\u001b[0;34m(\u001b[0m\u001b[0massign_ops\u001b[0m\u001b[0;34m,\u001b[0m \u001b[0mfeed_dict\u001b[0m\u001b[0;34m=\u001b[0m\u001b[0mfeed_dict\u001b[0m\u001b[0;34m)\u001b[0m\u001b[0;34m\u001b[0m\u001b[0;34m\u001b[0m\u001b[0m\n\u001b[0m\u001b[1;32m   4054\u001b[0m \u001b[0;34m\u001b[0m\u001b[0m\n\u001b[1;32m   4055\u001b[0m \u001b[0;34m\u001b[0m\u001b[0m\n",
            "\u001b[0;32m/usr/local/lib/python3.7/dist-packages/keras/backend.py\u001b[0m in \u001b[0;36mget_session\u001b[0;34m(op_input_list)\u001b[0m\n\u001b[1;32m    761\u001b[0m   \u001b[0;32mif\u001b[0m \u001b[0;32mnot\u001b[0m \u001b[0m_MANUAL_VAR_INIT\u001b[0m\u001b[0;34m:\u001b[0m\u001b[0;34m\u001b[0m\u001b[0;34m\u001b[0m\u001b[0m\n\u001b[1;32m    762\u001b[0m     \u001b[0;32mwith\u001b[0m \u001b[0msession\u001b[0m\u001b[0;34m.\u001b[0m\u001b[0mgraph\u001b[0m\u001b[0;34m.\u001b[0m\u001b[0mas_default\u001b[0m\u001b[0;34m(\u001b[0m\u001b[0;34m)\u001b[0m\u001b[0;34m:\u001b[0m\u001b[0;34m\u001b[0m\u001b[0;34m\u001b[0m\u001b[0m\n\u001b[0;32m--> 763\u001b[0;31m       \u001b[0m_initialize_variables\u001b[0m\u001b[0;34m(\u001b[0m\u001b[0msession\u001b[0m\u001b[0;34m)\u001b[0m\u001b[0;34m\u001b[0m\u001b[0;34m\u001b[0m\u001b[0m\n\u001b[0m\u001b[1;32m    764\u001b[0m   \u001b[0;32mreturn\u001b[0m \u001b[0msession\u001b[0m\u001b[0;34m\u001b[0m\u001b[0;34m\u001b[0m\u001b[0m\n\u001b[1;32m    765\u001b[0m \u001b[0;34m\u001b[0m\u001b[0m\n",
            "\u001b[0;32m/usr/local/lib/python3.7/dist-packages/keras/backend.py\u001b[0m in \u001b[0;36m_initialize_variables\u001b[0;34m(session)\u001b[0m\n\u001b[1;32m   1224\u001b[0m       \u001b[0mv\u001b[0m\u001b[0;34m.\u001b[0m\u001b[0m_keras_initialized\u001b[0m \u001b[0;34m=\u001b[0m \u001b[0;32mTrue\u001b[0m\u001b[0;34m\u001b[0m\u001b[0;34m\u001b[0m\u001b[0m\n\u001b[1;32m   1225\u001b[0m     \u001b[0;32mif\u001b[0m \u001b[0muninitialized_vars\u001b[0m\u001b[0;34m:\u001b[0m\u001b[0;34m\u001b[0m\u001b[0;34m\u001b[0m\u001b[0m\n\u001b[0;32m-> 1226\u001b[0;31m       \u001b[0msession\u001b[0m\u001b[0;34m.\u001b[0m\u001b[0mrun\u001b[0m\u001b[0;34m(\u001b[0m\u001b[0mtf\u001b[0m\u001b[0;34m.\u001b[0m\u001b[0mcompat\u001b[0m\u001b[0;34m.\u001b[0m\u001b[0mv1\u001b[0m\u001b[0;34m.\u001b[0m\u001b[0mvariables_initializer\u001b[0m\u001b[0;34m(\u001b[0m\u001b[0muninitialized_vars\u001b[0m\u001b[0;34m)\u001b[0m\u001b[0;34m)\u001b[0m\u001b[0;34m\u001b[0m\u001b[0;34m\u001b[0m\u001b[0m\n\u001b[0m\u001b[1;32m   1227\u001b[0m \u001b[0;34m\u001b[0m\u001b[0m\n\u001b[1;32m   1228\u001b[0m \u001b[0;34m\u001b[0m\u001b[0m\n",
            "\u001b[0;32m/usr/local/lib/python3.7/dist-packages/tensorflow/python/client/session.py\u001b[0m in \u001b[0;36mrun\u001b[0;34m(self, fetches, feed_dict, options, run_metadata)\u001b[0m\n\u001b[1;32m    966\u001b[0m     \u001b[0;32mtry\u001b[0m\u001b[0;34m:\u001b[0m\u001b[0;34m\u001b[0m\u001b[0;34m\u001b[0m\u001b[0m\n\u001b[1;32m    967\u001b[0m       result = self._run(None, fetches, feed_dict, options_ptr,\n\u001b[0;32m--> 968\u001b[0;31m                          run_metadata_ptr)\n\u001b[0m\u001b[1;32m    969\u001b[0m       \u001b[0;32mif\u001b[0m \u001b[0mrun_metadata\u001b[0m\u001b[0;34m:\u001b[0m\u001b[0;34m\u001b[0m\u001b[0;34m\u001b[0m\u001b[0m\n\u001b[1;32m    970\u001b[0m         \u001b[0mproto_data\u001b[0m \u001b[0;34m=\u001b[0m \u001b[0mtf_session\u001b[0m\u001b[0;34m.\u001b[0m\u001b[0mTF_GetBuffer\u001b[0m\u001b[0;34m(\u001b[0m\u001b[0mrun_metadata_ptr\u001b[0m\u001b[0;34m)\u001b[0m\u001b[0;34m\u001b[0m\u001b[0;34m\u001b[0m\u001b[0m\n",
            "\u001b[0;32m/usr/local/lib/python3.7/dist-packages/tensorflow/python/client/session.py\u001b[0m in \u001b[0;36m_run\u001b[0;34m(self, handle, fetches, feed_dict, options, run_metadata)\u001b[0m\n\u001b[1;32m   1189\u001b[0m     \u001b[0;32mif\u001b[0m \u001b[0mfinal_fetches\u001b[0m \u001b[0;32mor\u001b[0m \u001b[0mfinal_targets\u001b[0m \u001b[0;32mor\u001b[0m \u001b[0;34m(\u001b[0m\u001b[0mhandle\u001b[0m \u001b[0;32mand\u001b[0m \u001b[0mfeed_dict_tensor\u001b[0m\u001b[0;34m)\u001b[0m\u001b[0;34m:\u001b[0m\u001b[0;34m\u001b[0m\u001b[0;34m\u001b[0m\u001b[0m\n\u001b[1;32m   1190\u001b[0m       results = self._do_run(handle, final_targets, final_fetches,\n\u001b[0;32m-> 1191\u001b[0;31m                              feed_dict_tensor, options, run_metadata)\n\u001b[0m\u001b[1;32m   1192\u001b[0m     \u001b[0;32melse\u001b[0m\u001b[0;34m:\u001b[0m\u001b[0;34m\u001b[0m\u001b[0;34m\u001b[0m\u001b[0m\n\u001b[1;32m   1193\u001b[0m       \u001b[0mresults\u001b[0m \u001b[0;34m=\u001b[0m \u001b[0;34m[\u001b[0m\u001b[0;34m]\u001b[0m\u001b[0;34m\u001b[0m\u001b[0;34m\u001b[0m\u001b[0m\n",
            "\u001b[0;32m/usr/local/lib/python3.7/dist-packages/tensorflow/python/client/session.py\u001b[0m in \u001b[0;36m_do_run\u001b[0;34m(self, handle, target_list, fetch_list, feed_dict, options, run_metadata)\u001b[0m\n\u001b[1;32m   1369\u001b[0m     \u001b[0;32mif\u001b[0m \u001b[0mhandle\u001b[0m \u001b[0;32mis\u001b[0m \u001b[0;32mNone\u001b[0m\u001b[0;34m:\u001b[0m\u001b[0;34m\u001b[0m\u001b[0;34m\u001b[0m\u001b[0m\n\u001b[1;32m   1370\u001b[0m       return self._do_call(_run_fn, feeds, fetches, targets, options,\n\u001b[0;32m-> 1371\u001b[0;31m                            run_metadata)\n\u001b[0m\u001b[1;32m   1372\u001b[0m     \u001b[0;32melse\u001b[0m\u001b[0;34m:\u001b[0m\u001b[0;34m\u001b[0m\u001b[0;34m\u001b[0m\u001b[0m\n\u001b[1;32m   1373\u001b[0m       \u001b[0;32mreturn\u001b[0m \u001b[0mself\u001b[0m\u001b[0;34m.\u001b[0m\u001b[0m_do_call\u001b[0m\u001b[0;34m(\u001b[0m\u001b[0m_prun_fn\u001b[0m\u001b[0;34m,\u001b[0m \u001b[0mhandle\u001b[0m\u001b[0;34m,\u001b[0m \u001b[0mfeeds\u001b[0m\u001b[0;34m,\u001b[0m \u001b[0mfetches\u001b[0m\u001b[0;34m)\u001b[0m\u001b[0;34m\u001b[0m\u001b[0;34m\u001b[0m\u001b[0m\n",
            "\u001b[0;32m/usr/local/lib/python3.7/dist-packages/tensorflow/python/client/session.py\u001b[0m in \u001b[0;36m_do_call\u001b[0;34m(self, fn, *args)\u001b[0m\n\u001b[1;32m   1375\u001b[0m   \u001b[0;32mdef\u001b[0m \u001b[0m_do_call\u001b[0m\u001b[0;34m(\u001b[0m\u001b[0mself\u001b[0m\u001b[0;34m,\u001b[0m \u001b[0mfn\u001b[0m\u001b[0;34m,\u001b[0m \u001b[0;34m*\u001b[0m\u001b[0margs\u001b[0m\u001b[0;34m)\u001b[0m\u001b[0;34m:\u001b[0m\u001b[0;34m\u001b[0m\u001b[0;34m\u001b[0m\u001b[0m\n\u001b[1;32m   1376\u001b[0m     \u001b[0;32mtry\u001b[0m\u001b[0;34m:\u001b[0m\u001b[0;34m\u001b[0m\u001b[0;34m\u001b[0m\u001b[0m\n\u001b[0;32m-> 1377\u001b[0;31m       \u001b[0;32mreturn\u001b[0m \u001b[0mfn\u001b[0m\u001b[0;34m(\u001b[0m\u001b[0;34m*\u001b[0m\u001b[0margs\u001b[0m\u001b[0;34m)\u001b[0m\u001b[0;34m\u001b[0m\u001b[0;34m\u001b[0m\u001b[0m\n\u001b[0m\u001b[1;32m   1378\u001b[0m     \u001b[0;32mexcept\u001b[0m \u001b[0merrors\u001b[0m\u001b[0;34m.\u001b[0m\u001b[0mOpError\u001b[0m \u001b[0;32mas\u001b[0m \u001b[0me\u001b[0m\u001b[0;34m:\u001b[0m\u001b[0;34m\u001b[0m\u001b[0;34m\u001b[0m\u001b[0m\n\u001b[1;32m   1379\u001b[0m       \u001b[0mmessage\u001b[0m \u001b[0;34m=\u001b[0m \u001b[0mcompat\u001b[0m\u001b[0;34m.\u001b[0m\u001b[0mas_text\u001b[0m\u001b[0;34m(\u001b[0m\u001b[0me\u001b[0m\u001b[0;34m.\u001b[0m\u001b[0mmessage\u001b[0m\u001b[0;34m)\u001b[0m\u001b[0;34m\u001b[0m\u001b[0;34m\u001b[0m\u001b[0m\n",
            "\u001b[0;32m/usr/local/lib/python3.7/dist-packages/tensorflow/python/client/session.py\u001b[0m in \u001b[0;36m_run_fn\u001b[0;34m(feed_dict, fetch_list, target_list, options, run_metadata)\u001b[0m\n\u001b[1;32m   1359\u001b[0m       \u001b[0mself\u001b[0m\u001b[0;34m.\u001b[0m\u001b[0m_extend_graph\u001b[0m\u001b[0;34m(\u001b[0m\u001b[0;34m)\u001b[0m\u001b[0;34m\u001b[0m\u001b[0;34m\u001b[0m\u001b[0m\n\u001b[1;32m   1360\u001b[0m       return self._call_tf_sessionrun(options, feed_dict, fetch_list,\n\u001b[0;32m-> 1361\u001b[0;31m                                       target_list, run_metadata)\n\u001b[0m\u001b[1;32m   1362\u001b[0m \u001b[0;34m\u001b[0m\u001b[0m\n\u001b[1;32m   1363\u001b[0m     \u001b[0;32mdef\u001b[0m \u001b[0m_prun_fn\u001b[0m\u001b[0;34m(\u001b[0m\u001b[0mhandle\u001b[0m\u001b[0;34m,\u001b[0m \u001b[0mfeed_dict\u001b[0m\u001b[0;34m,\u001b[0m \u001b[0mfetch_list\u001b[0m\u001b[0;34m)\u001b[0m\u001b[0;34m:\u001b[0m\u001b[0;34m\u001b[0m\u001b[0;34m\u001b[0m\u001b[0m\n",
            "\u001b[0;32m/usr/local/lib/python3.7/dist-packages/tensorflow/python/client/session.py\u001b[0m in \u001b[0;36m_call_tf_sessionrun\u001b[0;34m(self, options, feed_dict, fetch_list, target_list, run_metadata)\u001b[0m\n\u001b[1;32m   1453\u001b[0m     return tf_session.TF_SessionRun_wrapper(self._session, options, feed_dict,\n\u001b[1;32m   1454\u001b[0m                                             \u001b[0mfetch_list\u001b[0m\u001b[0;34m,\u001b[0m \u001b[0mtarget_list\u001b[0m\u001b[0;34m,\u001b[0m\u001b[0;34m\u001b[0m\u001b[0;34m\u001b[0m\u001b[0m\n\u001b[0;32m-> 1455\u001b[0;31m                                             run_metadata)\n\u001b[0m\u001b[1;32m   1456\u001b[0m \u001b[0;34m\u001b[0m\u001b[0m\n\u001b[1;32m   1457\u001b[0m   \u001b[0;32mdef\u001b[0m \u001b[0m_call_tf_sessionprun\u001b[0m\u001b[0;34m(\u001b[0m\u001b[0mself\u001b[0m\u001b[0;34m,\u001b[0m \u001b[0mhandle\u001b[0m\u001b[0;34m,\u001b[0m \u001b[0mfeed_dict\u001b[0m\u001b[0;34m,\u001b[0m \u001b[0mfetch_list\u001b[0m\u001b[0;34m)\u001b[0m\u001b[0;34m:\u001b[0m\u001b[0;34m\u001b[0m\u001b[0;34m\u001b[0m\u001b[0m\n",
            "\u001b[0;31mKeyboardInterrupt\u001b[0m: "
          ]
        }
      ]
    },
    {
      "cell_type": "code",
      "source": [
        "X = np.array(X)\n",
        "y = np.array(y)\n",
        "X.shape"
      ],
      "metadata": {
        "colab": {
          "base_uri": "https://localhost:8080/"
        },
        "id": "ajUN6ymzBCby",
        "outputId": "5ead9504-8b2d-428b-9457-b4a9293e820c"
      },
      "execution_count": 173,
      "outputs": [
        {
          "output_type": "execute_result",
          "data": {
            "text/plain": [
              "(2000, 100, 3)"
            ]
          },
          "metadata": {},
          "execution_count": 173
        }
      ]
    },
    {
      "cell_type": "code",
      "source": [
        "model = Sequential()\n",
        "model.add(Bidirectional(LSTM(1024), input_shape=(100, 3))) # biLSTM two layer\n",
        "#model.add(Bidirectional(LSTM(1024))), return_sequences=True\n",
        "model.add(Dense(2048)) # MLP 2048-1024-345\n",
        "model.add(Dense(1024))\n",
        "#model.add(Dense(345)) # , activation='custom'\n",
        "model.add(Dense(1))\n",
        "model.compile(loss='binary_crossentropy', optimizer='adam', metrics=['accuracy'])\n",
        "model.summary()\n",
        "model.fit(X, y, epochs=10, batch_size=128)"
      ],
      "metadata": {
        "colab": {
          "base_uri": "https://localhost:8080/"
        },
        "id": "sV96Nc11pEaF",
        "outputId": "272d3c69-0cec-4813-fa56-ce957bd7b50e"
      },
      "execution_count": 177,
      "outputs": [
        {
          "output_type": "stream",
          "name": "stdout",
          "text": [
            "Model: \"sequential_46\"\n",
            "_________________________________________________________________\n",
            " Layer (type)                Output Shape              Param #   \n",
            "=================================================================\n",
            " bidirectional_67 (Bidirecti  (None, 2048)             8421376   \n",
            " onal)                                                           \n",
            "                                                                 \n",
            " dense_77 (Dense)            (None, 2048)              4196352   \n",
            "                                                                 \n",
            " dense_78 (Dense)            (None, 1024)              2098176   \n",
            "                                                                 \n",
            " dense_79 (Dense)            (None, 1)                 1025      \n",
            "                                                                 \n",
            "=================================================================\n",
            "Total params: 14,716,929\n",
            "Trainable params: 14,716,929\n",
            "Non-trainable params: 0\n",
            "_________________________________________________________________\n",
            "Train on 2000 samples\n",
            "Epoch 1/10\n",
            "2000/2000 [==============================] - 332s 166ms/sample - loss: 8.1939 - acc: 0.4395\n",
            "Epoch 2/10\n",
            "2000/2000 [==============================] - 331s 165ms/sample - loss: 7.7126 - acc: 0.4975\n",
            "Epoch 3/10\n",
            "2000/2000 [==============================] - 321s 161ms/sample - loss: 7.3953 - acc: 0.5170\n",
            "Epoch 4/10\n",
            "2000/2000 [==============================] - 321s 160ms/sample - loss: 7.2468 - acc: 0.5285\n",
            "Epoch 5/10\n",
            "2000/2000 [==============================] - 327s 164ms/sample - loss: 7.4445 - acc: 0.5150\n",
            "Epoch 6/10\n",
            "2000/2000 [==============================] - 325s 162ms/sample - loss: 8.8500 - acc: 0.4235\n",
            "Epoch 7/10\n",
            "2000/2000 [==============================] - 322s 161ms/sample - loss: 8.3603 - acc: 0.4545\n",
            "Epoch 8/10\n",
            "2000/2000 [==============================] - 328s 164ms/sample - loss: 7.8064 - acc: 0.4910\n",
            "Epoch 9/10\n",
            "2000/2000 [==============================] - 330s 165ms/sample - loss: 7.7360 - acc: 0.4955\n",
            "Epoch 10/10\n",
            "2000/2000 [==============================] - 329s 164ms/sample - loss: 7.7129 - acc: 0.4970\n"
          ]
        },
        {
          "output_type": "execute_result",
          "data": {
            "text/plain": [
              "<keras.callbacks.History at 0x7f725bdedf90>"
            ]
          },
          "metadata": {},
          "execution_count": 177
        }
      ]
    }
  ]
}