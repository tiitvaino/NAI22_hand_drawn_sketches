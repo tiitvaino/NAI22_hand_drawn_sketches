{
  "cells": [
    {
      "cell_type": "markdown",
      "metadata": {
        "id": "pipIHNPSTLqT"
      },
      "source": [
        "# NAI 22 - initial model"
      ]
    },
    {
      "cell_type": "markdown",
      "metadata": {
        "pycharm": {
          "name": "#%% md\n"
        },
        "id": "K6aUT6qYTLqV"
      },
      "source": []
    },
    {
      "cell_type": "code",
      "execution_count": 1,
      "metadata": {
        "pycharm": {
          "name": "#%%\n"
        },
        "id": "lrezvslkTLqV"
      },
      "outputs": [],
      "source": [
        "# 1. layer of BiLSTM 1024 of hidden units\n",
        "# 2. layer of BiLSTM\n",
        "# classification head W with MLPs\n",
        "## 2048\n",
        "## 1024\n",
        "## 345\n",
        "\n",
        "# Adam optimiser with learning rate 1e-3\n",
        "\n",
        "# Train for 10 epochs with batch size of 256"
      ]
    },
    {
      "cell_type": "code",
      "execution_count": 2,
      "outputs": [],
      "source": [
        "import numpy as np\n",
        "import pandas as pd\n",
        "import matplotlib.pyplot as plt\n",
        "%matplotlib inline"
      ],
      "metadata": {
        "pycharm": {
          "name": "#%%\n"
        },
        "id": "j8pi3a3UTLqX"
      }
    },
    {
      "cell_type": "code",
      "execution_count": 3,
      "outputs": [],
      "source": [
        "# https://analyticsindiamag.com/complete-guide-to-bidirectional-lstm-with-python-codes\n",
        "\n",
        "# Special activation function \n",
        "# https://stackoverflow.com/questions/43915482/how-do-you-create-a-custom-activation-function-with-keras\n",
        "\n",
        "# paper: https://openaccess.thecvf.com/content/CVPR2022/papers/Yang_Finding_Badly_Drawn_Bunnies_CVPR_2022_paper.pdf\n",
        "# data: https://github.com/googlecreativelab/quickdraw-dataset\n",
        "\n",
        "# Input \n",
        "#   What is the input, it dimensions?\n",
        "#   Should be in initial shape, [[x,y,t]]\n",
        "#   Look into sketch rnn\n",
        "#   https://arxiv.org/pdf/1704.03477.pdf It uses BILSTM\n",
        "\n",
        "#   what is the input layer, is it one dimensional?\n",
        "#   Should there be a layer/block of layers for input \n",
        "\n",
        "# Internal\n",
        "#   Should we make 4 models for each custom activation function\n",
        "#   Get classification working\n",
        "\n",
        "#   What is the bilstm activation function\n",
        "#   Use default\n",
        "\n",
        "\n",
        "# Custom activation functions\n",
        "#   Explain maybe these to us, they are quite unclear\n",
        "#   What does some of the symbols mean there?\n",
        "\n",
        "\n",
        "# Loss function\n",
        "#   What about loss function\n",
        "\n",
        "\n",
        "# output\n",
        "#   What should be output? Is it 345 classes, where each represents how well is this class drawn?\n",
        "\n",
        "#   Train on classification first to see if the network works\n",
        "#   Ask from the hpc.ut.ee to help with computation, add email also to Jaan. They should give access. through ssh.\n",
        "#   "
      ],
      "metadata": {
        "pycharm": {
          "name": "#%%\n"
        },
        "id": "bf023SqNTLqX"
      }
    },
    {
      "cell_type": "code",
      "execution_count": 4,
      "outputs": [
        {
          "output_type": "stream",
          "name": "stderr",
          "text": [
            "/usr/local/lib/python3.7/dist-packages/ipykernel_launcher.py:52: VisibleDeprecationWarning: Creating an ndarray from ragged nested sequences (which is a list-or-tuple of lists-or-tuples-or ndarrays with different lengths or shapes) is deprecated. If you meant to do this, you must specify 'dtype=object' when creating the ndarray.\n"
          ]
        },
        {
          "output_type": "display_data",
          "data": {
            "text/plain": [
              "<PIL.Image.Image image mode=RGB size=400x400 at 0x7F11A1C71750>"
            ],
            "image/png": "[encoded data removed]"
          },
          "metadata": {}
        }
      ],
      "source": [
        "bunny = [\n",
        "  [\n",
        "    [216.69900512695312, 209.3179931640625, 199.6300048828125, 193.0229949951172, 180.29600524902344, 174.6739959716797, 169.8000030517578, 164.9080047607422, 156.16400146484375, 151.89199829101562, 145.41299438476562, 139.63299560546875, 134.13999938964844, 131.11300659179688, 129.58399963378906, 130.05299377441406, 132.28700256347656, 136.75, 144.1699981689453, 151.10000610351562, 157.08599853515625, 163.8350067138672, 173.24000549316406, 178.78700256347656, 186.02499389648438, 193.0189971923828, 197.7949981689453, 201.83099365234375, 208.5189971923828, 217.53900146484375, 223.2740020751953, 228.02699279785156, 232.2790069580078, 238.572998046875, 242.30099487304688, 243.60000610351562, 245.5989990234375, 246.06199645996094, 245.4250030517578, 242.4600067138672, 236.5030059814453, 236.5030059814453],\n",
        "    [118.26499938964844, 120.9949951171875, 121.08999633789062, 121.5989990234375, 122.97999572753906, 123.63200378417969, 124.52999877929688, 126.0469970703125, 129.1300048828125, 131.4199981689453, 134.69500732421875, 139.9219970703125, 146.38600158691406, 153.3820037841797, 159.14700317382812, 165.13400268554688, 170.4010009765625, 174.1619873046875, 176.18798828125, 177.92098999023438, 177.95199584960938, 178.45401000976562, 177.4849853515625, 177.718994140625, 177.718994140625, 176.9849853515625, 177.218994140625, 176.4849853515625, 175.25299072265625, 171.05300903320312, 167.0830078125, 162.85598754882812, 158.864990234375, 149.8990020751953, 142.70599365234375, 136.9340057373047, 129.46499633789062, 120.82699584960938, 113.89599609375, 109.10000610351562, 109.03399658203125, 109.03399658203125],\n",
        "    [0, 116, 152, 187, 192, 203, 217, 236, 278, 287, 318, 351, 387, 420, 454, 488, 522, 557, 590, 608, 624, 644, 658, 681, 694, 711, 728, 745, 763, 796, 813, 829, 851, 885, 897, 916, 938, 953, 988, 1019, 1053, 1088]\n",
        "  ],\n",
        "  [\n",
        "    [184.24400329589844, 184.24400329589844],\n",
        "    [153.73800659179688, 153.73800659179688],\n",
        "    [1535, 1601]\n",
        "  ],\n",
        "  [\n",
        "    [184.24400329589844, 184.24400329589844],\n",
        "    [152.73800659179688, 152.73800659179688],\n",
        "    [2149, 2219]\n",
        "  ],\n",
        "  [\n",
        "    [161.2760009765625, 159.7779998779297],\n",
        "    [148.24200439453125, 149.24099731445312],\n",
        "    [2645, 2717]\n",
        "  ],\n",
        "  [\n",
        "    [152.28799438476562, 157.95399475097656, 161.97999572753906, 169.875, 176.40699768066406, 182.15899658203125, 190.21499633789062, 197.59800720214844, 203.86000061035156, 209.61399841308594, 214.3730010986328, 219.39700317382812, 224.1230010986328, 230.11599731445312, 234.87600708007812, 237.86900329589844],\n",
        "    [130.25599670410156, 134.2220001220703, 134.5679931640625, 134.7530059814453, 134.01699829101562, 133.7530059814453, 131.13600158691406, 129.28900146484375, 128.0229949951172, 127.02400207519531, 127.25799560546875, 129.7239990234375, 131.22300720214844, 134.2209930419922, 136.718994140625, 136.75100708007812],\n",
        "    [3499, 3617, 3626, 3654, 3698, 3725, 3752, 3793, 3820, 3853, 3886, 3941, 3979, 4022, 4082, 4122]\n",
        "  ],\n",
        "  [\n",
        "    [160.77699279785156, 155.78399658203125, 148.88800048828125, 144.28900146484375, 138.38699340820312, 131.38099670410156, 127.61599731445312, 124.65899658203125, 122.88999938964844, 120.9000015258789, 118.86699676513672, 118.33599853515625, 126.45899963378906, 131.41700744628906, 137.39500427246094, 145.06500244140625, 152.08599853515625, 156.11199951171875, 160.39700317382812, 164.87100219726562, 171.39999389648438, 176.19500732421875, 180.68600463867188, 183.6790008544922, 185.71200561523438, 188.20799255371094, 191.43699645996094, 194.43299865722656, 198.16600036621094],\n",
        "    [117.26600646972656, 114.76800537109375, 107.63400268554688, 102.97999572753906, 95.38900756835938, 84.65299987792969, 77.64799499511719, 73.4320068359375, 67.22099304199219, 62.477996826171875, 55.677001953125, 50.647003173828125, 51.78399658203125, 52.78300476074219, 53.78599548339844, 55.514007568359375, 57.02000427246094, 58.51100158691406, 60.75199890136719, 64.20799255371094, 71.44000244140625, 77.20700073242188, 83.197998046875, 88.68899536132812, 94.45899963378906, 100.68600463867188, 106.68099975585938, 111.94200134277344, 114.4739990234375],\n",
        "    [5611, 5664, 5721, 5738, 5764, 5816, 5835, 5858, 5889, 5897, 5924, 5952, 6056, 6081, 6094, 6109, 6125, 6144, 6159, 6190, 6211, 6243, 6283, 6312, 6346, 6386, 6413, 6448, 6495]\n",
        "  ],\n",
        "  [\n",
        "    [226.18600463867188, 234.4029998779297, 239.87899780273438, 245.2010040283203, 252.4320068359375, 259.0039978027344, 264.5450134277344, 270.52899169921875, 276.5159912109375, 281.27899169921875, 286.2770080566406, 290.2980041503906, 291.8299865722656, 290.86199951171875, 289.6300048828125, 287.1700134277344, 282.9570007324219, 280.2120056152344, 275.0190124511719, 264.635009765625, 259.8290100097656, 256.03900146484375, 251.97500610351562, 248.45599365234375],\n",
        "    [107.77400207519531, 102.177001953125, 97.21800231933594, 92.71200561523438, 87.21099853515625, 81.24099731445312, 76.62100219726562, 74.09700012207031, 72.5679931640625, 71.5679931640625, 72.03599548339844, 75.00100708007812, 82.20399475097656, 86.66600036621094, 92.12600708007812, 97.84199523925781, 106.31100463867188, 113.76699829101562, 121.99299621582031, 135.89599609375, 142.7270050048828, 149.74899291992188, 155.88101196289062, 159.16598510742188],\n",
        "    [6883, 7015, 7037, 7052, 7064, 7114, 7145, 7165, 7203, 7235, 7279, 7322, 7382, 7396, 7411, 7421, 7440, 7457, 7482, 7496, 7507, 7525, 7560, 7631]\n",
        "  ],\n",
        "  [\n",
        "    [186.24099731445312, 181.7480010986328, 175.75599670410156, 171.26199340820312, 166.33399963378906, 161.83599853515625, 155.88400268554688, 147.92100524902344, 142.4010009765625, 138.3699951171875, 132.38299560546875, 129.1199951171875, 126.125, 124.59100341796875, 123.09500122070312, 123.3290023803711, 124.06300354003906, 125.06099700927734, 126.06199645996094, 127.05999755859375, 128.79100036621094, 130.78199768066406, 133.28399658203125, 136.51400756835938, 139.74099731445312, 142.51100158691406, 146.7239990234375, 151.21800231933594, 156.95199584960938, 166.3979949951172, 172.1300048828125, 178.15199279785156, 184.15499877929688, 191.3769989013672, 197.093994140625, 202.89500427246094, 209.60699462890625, 215.60899353027344, 220.36900329589844, 224.625, 230.58599853515625, 234.83900451660156, 236.61199951171875, 237.8699951171875, 237.9040069580078, 236.93499755859375, 234.9759979248047, 231.9949951171875, 227.31500244140625, 222.5780029296875, 213.40699768066406, 207.9250030517578, 203.8820037841797, 198.13900756835938, 189.70899963378906, 185.1840057373047, 181.14300537109375, 176.80599975585938, 176.2550048828125],\n",
        "    [178.218994140625, 179.21798706054688, 178.218994140625, 178.218994140625, 178.218994140625, 178.218994140625, 179.45098876953125, 179.21798706054688, 180.45001220703125, 182.18499755859375, 186.4119873046875, 190.64199829101562, 196.60400390625, 203.3489990234375, 211.0679931640625, 217.82501220703125, 224.8280029296875, 231.81900024414062, 237.59201049804688, 243.58401489257812, 250.80499267578125, 257.0469970703125, 263.0610046386719, 269.78900146484375, 275.0459899902344, 279.8210144042969, 284.2959899902344, 287.3290100097656, 290.8320007324219, 293.593994140625, 293.62799072265625, 292.89599609375, 291.1600036621094, 288.4289855957031, 285.2229919433594, 281.9309997558594, 278.4410095214844, 275.43798828125, 270.70599365234375, 264.97900390625, 258.7489929199219, 250.56399536132812, 243.1099853515625, 235.17401123046875, 224.73599243164062, 218.1510009765625, 212.89999389648438, 206.12100219726562, 201.1300048828125, 196.35699462890625, 188.44198608398438, 184.13198852539062, 181.58099365234375, 179.5419921875, 177.77801513671875, 176.52200317382812, 176.48599243164062, 176.22000122070312, 176.22000122070312],\n",
        "    [8984, 9135, 9234, 9283, 9325, 9353, 9393, 9420, 9456, 9496, 9541, 9584, 9613, 9644, 9688, 9718, 9745, 9785, 9815, 9848, 9888, 9919, 9948, 9987, 10042, 10073, 10107, 10127, 10162, 10221, 10248, 10270, 10306, 10339, 10381, 10412, 10445, 10485, 10513, 10553, 10589, 10614, 10631, 10649, 10668, 10694, 10711, 10724, 10736, 10753, 10773, 10797, 10817, 10831, 10850, 10864, 10882, 10914, 10995]\n",
        "  ],\n",
        "  [\n",
        "    [149.79200744628906, 142.63600158691406, 136.40699768066406, 131.64199829101562, 127.3949966430664, 125.35800170898438, 124.01499938964844, 122.36100006103516, 120.13600158691406, 118.11599731445312, 115.86299896240234, 119.83399963378906, 125.52899932861328, 131.97999572753906, 137.74600219726562, 142.302001953125, 137.3090057373047],\n",
        "    [290.1310119628906, 290.1310119628906, 292.0979919433594, 295.3320007324219, 298.8210144042969, 305.75799560546875, 309.8030090332031, 315.5190124511719, 321.8489990234375, 326.90399169921875, 331.31201171875, 335.59600830078125, 337.3290100097656, 338.32598876953125, 338.5929870605469, 340.5920104980469, 345.5880126953125],\n",
        "    [11627, 11690, 11728, 11793, 11808, 11840, 11855, 11895, 11931, 11951, 12002, 12291, 12398, 12455, 12499, 12596, 12750]\n",
        "  ]\n",
        "]\n",
        "from PIL import Image\n",
        "from IPython.display import display\n",
        "import cv2\n",
        "\n",
        "bunny = np.array(bunny)\n",
        "bunny.shape\n",
        "bunny_stroke_loc =  [list(zip(stroke[0],stroke[1]))for stroke in bunny]\n",
        "max(bunny_stroke_loc)\n",
        "\n",
        "image = np.full((400,400,3),(255,255,255),dtype=np.uint8)\n",
        "for stroke in bunny_stroke_loc:\n",
        "  last_point = int(stroke[0][0]),int(stroke[0][1])\n",
        "  for x,y in stroke:\n",
        "    x,y = int(x),int(y)\n",
        "    cv2.line(image, last_point, (x,y), (0,0,0), 2)\n",
        "    last_point = (x,y)\n",
        "display(Image.fromarray(image))"
      ],
      "metadata": {
        "pycharm": {
          "name": "#%%\n"
        },
        "id": "Dkg66jkzTLqX",
        "outputId": "c32be8ba-f413-4591-bd34-8a0bb49b4f05",
        "colab": {
          "base_uri": "https://localhost:8080/",
          "height": 454
        }
      }
    },
    {
      "cell_type": "code",
      "source": [
        "!gsutil -m cp 'gs://quickdraw_dataset/full/simplified/*.ndjson' ."
      ],
      "metadata": {
        "id": "75Sm1SNHh16m",
        "outputId": "9555a54b-dd1b-45f5-c2ff-4508be8e429a",
        "colab": {
          "base_uri": "https://localhost:8080/"
        }
      },
      "execution_count": 53,
      "outputs": [
        {
          "output_type": "stream",
          "name": "stdout",
          "text": [
            "Copying gs://quickdraw_dataset/full/simplified/alarm clock.ndjson...\n",
            "Copying gs://quickdraw_dataset/full/simplified/The Eiffel Tower.ndjson...\n",
            "/ [0 files][    0.0 B/ 71.1 MiB]                                                \r/ [0 files][    0.0 B/119.4 MiB]                                                \rCopying gs://quickdraw_dataset/full/simplified/The Great Wall of China.ndjson...\n",
            "/ [0 files][    0.0 B/  6.6 GiB]                                                \rCopying gs://quickdraw_dataset/full/simplified/The Mona Lisa.ndjson...\n",
            "Copying gs://quickdraw_dataset/full/simplified/aircraft carrier.ndjson...\n",
            "/ [0 files][    0.0 B/  6.6 GiB]                                                \rCopying gs://quickdraw_dataset/full/simplified/ambulance.ndjson...\n",
            "/ [0 files][    0.0 B/  6.6 GiB]                                                \r/ [0 files][    0.0 B/  6.6 GiB]                                                \rCopying gs://quickdraw_dataset/full/simplified/airplane.ndjson...\n",
            "/ [0 files][    0.0 B/  6.6 GiB]                                                \rCopying gs://quickdraw_dataset/full/simplified/animal migration.ndjson...\n",
            "Copying gs://quickdraw_dataset/full/simplified/angel.ndjson...\n",
            "Copying gs://quickdraw_dataset/full/simplified/ant.ndjson...\n",
            "Copying gs://quickdraw_dataset/full/simplified/anvil.ndjson...\n",
            "Copying gs://quickdraw_dataset/full/simplified/apple.ndjson...\n",
            "Copying gs://quickdraw_dataset/full/simplified/arm.ndjson...\n",
            "Copying gs://quickdraw_dataset/full/simplified/asparagus.ndjson...\n",
            "Copying gs://quickdraw_dataset/full/simplified/axe.ndjson...\n",
            "Copying gs://quickdraw_dataset/full/simplified/backpack.ndjson...\n",
            "Copying gs://quickdraw_dataset/full/simplified/banana.ndjson...\n",
            "Copying gs://quickdraw_dataset/full/simplified/bandage.ndjson...\n",
            "Copying gs://quickdraw_dataset/full/simplified/barn.ndjson...\n",
            "Copying gs://quickdraw_dataset/full/simplified/baseball bat.ndjson...\n",
            "Copying gs://quickdraw_dataset/full/simplified/baseball.ndjson...\n",
            "Copying gs://quickdraw_dataset/full/simplified/basket.ndjson...\n",
            "Copying gs://quickdraw_dataset/full/simplified/basketball.ndjson...\n",
            "Copying gs://quickdraw_dataset/full/simplified/bat.ndjson...\n",
            "Copying gs://quickdraw_dataset/full/simplified/bathtub.ndjson...\n",
            "Copying gs://quickdraw_dataset/full/simplified/beach.ndjson...\n",
            "Copying gs://quickdraw_dataset/full/simplified/bear.ndjson...\n",
            "Copying gs://quickdraw_dataset/full/simplified/beard.ndjson...\n",
            "Copying gs://quickdraw_dataset/full/simplified/bed.ndjson...\n",
            "Copying gs://quickdraw_dataset/full/simplified/bee.ndjson...\n",
            "Copying gs://quickdraw_dataset/full/simplified/belt.ndjson...\n",
            "Copying gs://quickdraw_dataset/full/simplified/bench.ndjson...\n",
            "Copying gs://quickdraw_dataset/full/simplified/bicycle.ndjson...\n",
            "Copying gs://quickdraw_dataset/full/simplified/binoculars.ndjson...\n",
            "Copying gs://quickdraw_dataset/full/simplified/bird.ndjson...\n",
            "Copying gs://quickdraw_dataset/full/simplified/birthday cake.ndjson...\n",
            "Copying gs://quickdraw_dataset/full/simplified/blackberry.ndjson...\n",
            "Copying gs://quickdraw_dataset/full/simplified/blueberry.ndjson...\n",
            "Copying gs://quickdraw_dataset/full/simplified/book.ndjson...\n",
            "Copying gs://quickdraw_dataset/full/simplified/boomerang.ndjson...\n",
            "Copying gs://quickdraw_dataset/full/simplified/bottlecap.ndjson...\n",
            "Copying gs://quickdraw_dataset/full/simplified/bowtie.ndjson...\n",
            "Copying gs://quickdraw_dataset/full/simplified/bracelet.ndjson...\n",
            "Copying gs://quickdraw_dataset/full/simplified/brain.ndjson...\n",
            "Copying gs://quickdraw_dataset/full/simplified/bread.ndjson...\n",
            "Copying gs://quickdraw_dataset/full/simplified/bridge.ndjson...\n",
            "Copying gs://quickdraw_dataset/full/simplified/broccoli.ndjson...\n",
            "Copying gs://quickdraw_dataset/full/simplified/broom.ndjson...\n",
            "Copying gs://quickdraw_dataset/full/simplified/bucket.ndjson...\n",
            "Copying gs://quickdraw_dataset/full/simplified/bulldozer.ndjson...\n",
            "Copying gs://quickdraw_dataset/full/simplified/bus.ndjson...\n",
            "Copying gs://quickdraw_dataset/full/simplified/bush.ndjson...\n",
            "Copying gs://quickdraw_dataset/full/simplified/butterfly.ndjson...\n",
            "Copying gs://quickdraw_dataset/full/simplified/cactus.ndjson...\n",
            "Copying gs://quickdraw_dataset/full/simplified/cake.ndjson...\n",
            "Copying gs://quickdraw_dataset/full/simplified/calculator.ndjson...\n",
            "Copying gs://quickdraw_dataset/full/simplified/calendar.ndjson...\n",
            "Copying gs://quickdraw_dataset/full/simplified/camel.ndjson...\n",
            "Copying gs://quickdraw_dataset/full/simplified/camera.ndjson...\n",
            "Copying gs://quickdraw_dataset/full/simplified/camouflage.ndjson...\n",
            "Copying gs://quickdraw_dataset/full/simplified/campfire.ndjson...\n",
            "Copying gs://quickdraw_dataset/full/simplified/candle.ndjson...\n",
            "Copying gs://quickdraw_dataset/full/simplified/cannon.ndjson...\n",
            "Copying gs://quickdraw_dataset/full/simplified/canoe.ndjson...\n",
            "Copying gs://quickdraw_dataset/full/simplified/car.ndjson...\n",
            "Copying gs://quickdraw_dataset/full/simplified/carrot.ndjson...\n",
            "Copying gs://quickdraw_dataset/full/simplified/castle.ndjson...\n",
            "Copying gs://quickdraw_dataset/full/simplified/cat.ndjson...\n",
            "Copying gs://quickdraw_dataset/full/simplified/ceiling fan.ndjson...\n",
            "Copying gs://quickdraw_dataset/full/simplified/cell phone.ndjson...\n",
            "Copying gs://quickdraw_dataset/full/simplified/cello.ndjson...\n",
            "Copying gs://quickdraw_dataset/full/simplified/chair.ndjson...\n",
            "Copying gs://quickdraw_dataset/full/simplified/chandelier.ndjson...\n",
            "Copying gs://quickdraw_dataset/full/simplified/church.ndjson...\n",
            "Copying gs://quickdraw_dataset/full/simplified/circle.ndjson...\n",
            "Copying gs://quickdraw_dataset/full/simplified/clarinet.ndjson...\n",
            "Copying gs://quickdraw_dataset/full/simplified/clock.ndjson...\n",
            "Copying gs://quickdraw_dataset/full/simplified/cloud.ndjson...\n",
            "Copying gs://quickdraw_dataset/full/simplified/coffee cup.ndjson...\n",
            "Copying gs://quickdraw_dataset/full/simplified/compass.ndjson...\n",
            "Copying gs://quickdraw_dataset/full/simplified/computer.ndjson...\n",
            "Copying gs://quickdraw_dataset/full/simplified/cookie.ndjson...\n",
            "Copying gs://quickdraw_dataset/full/simplified/cooler.ndjson...\n",
            "Copying gs://quickdraw_dataset/full/simplified/couch.ndjson...\n",
            "Copying gs://quickdraw_dataset/full/simplified/cow.ndjson...\n",
            "Copying gs://quickdraw_dataset/full/simplified/crab.ndjson...\n",
            "Copying gs://quickdraw_dataset/full/simplified/crayon.ndjson...\n",
            "Copying gs://quickdraw_dataset/full/simplified/crocodile.ndjson...\n",
            "Copying gs://quickdraw_dataset/full/simplified/crown.ndjson...\n",
            "Copying gs://quickdraw_dataset/full/simplified/cruise ship.ndjson...\n",
            "Copying gs://quickdraw_dataset/full/simplified/cup.ndjson...\n",
            "Copying gs://quickdraw_dataset/full/simplified/diamond.ndjson...\n",
            "Copying gs://quickdraw_dataset/full/simplified/dishwasher.ndjson...\n",
            "Copying gs://quickdraw_dataset/full/simplified/diving board.ndjson...\n",
            "Copying gs://quickdraw_dataset/full/simplified/dog.ndjson...\n",
            "Copying gs://quickdraw_dataset/full/simplified/dolphin.ndjson...\n",
            "Copying gs://quickdraw_dataset/full/simplified/donut.ndjson...\n",
            "Copying gs://quickdraw_dataset/full/simplified/door.ndjson...\n",
            "Copying gs://quickdraw_dataset/full/simplified/dragon.ndjson...\n",
            "Copying gs://quickdraw_dataset/full/simplified/dresser.ndjson...\n",
            "Copying gs://quickdraw_dataset/full/simplified/drill.ndjson...\n",
            "Copying gs://quickdraw_dataset/full/simplified/drums.ndjson...\n",
            "Copying gs://quickdraw_dataset/full/simplified/duck.ndjson...\n",
            "Copying gs://quickdraw_dataset/full/simplified/dumbbell.ndjson...\n",
            "Copying gs://quickdraw_dataset/full/simplified/ear.ndjson...\n",
            "Copying gs://quickdraw_dataset/full/simplified/elbow.ndjson...\n",
            "Copying gs://quickdraw_dataset/full/simplified/elephant.ndjson...\n",
            "Copying gs://quickdraw_dataset/full/simplified/envelope.ndjson...\n",
            "Copying gs://quickdraw_dataset/full/simplified/eraser.ndjson...\n",
            "Copying gs://quickdraw_dataset/full/simplified/eye.ndjson...\n",
            "Copying gs://quickdraw_dataset/full/simplified/eyeglasses.ndjson...\n",
            "Copying gs://quickdraw_dataset/full/simplified/face.ndjson...\n",
            "Copying gs://quickdraw_dataset/full/simplified/fan.ndjson...\n",
            "Copying gs://quickdraw_dataset/full/simplified/feather.ndjson...\n",
            "Copying gs://quickdraw_dataset/full/simplified/fence.ndjson...\n",
            "Copying gs://quickdraw_dataset/full/simplified/finger.ndjson...\n",
            "Copying gs://quickdraw_dataset/full/simplified/fire hydrant.ndjson...\n",
            "Copying gs://quickdraw_dataset/full/simplified/fireplace.ndjson...\n",
            "Copying gs://quickdraw_dataset/full/simplified/firetruck.ndjson...\n",
            "Copying gs://quickdraw_dataset/full/simplified/fish.ndjson...\n",
            "Copying gs://quickdraw_dataset/full/simplified/flamingo.ndjson...\n",
            "Copying gs://quickdraw_dataset/full/simplified/flashlight.ndjson...\n",
            "Copying gs://quickdraw_dataset/full/simplified/flip flops.ndjson...\n",
            "Copying gs://quickdraw_dataset/full/simplified/floor lamp.ndjson...\n",
            "Copying gs://quickdraw_dataset/full/simplified/flower.ndjson...\n",
            "Copying gs://quickdraw_dataset/full/simplified/flying saucer.ndjson...\n",
            "Copying gs://quickdraw_dataset/full/simplified/foot.ndjson...\n",
            "Copying gs://quickdraw_dataset/full/simplified/fork.ndjson...\n",
            "Copying gs://quickdraw_dataset/full/simplified/frog.ndjson...\n",
            "Copying gs://quickdraw_dataset/full/simplified/frying pan.ndjson...\n",
            "Copying gs://quickdraw_dataset/full/simplified/garden hose.ndjson...\n",
            "Copying gs://quickdraw_dataset/full/simplified/garden.ndjson...\n",
            "Copying gs://quickdraw_dataset/full/simplified/giraffe.ndjson...\n",
            "Copying gs://quickdraw_dataset/full/simplified/goatee.ndjson...\n",
            "Copying gs://quickdraw_dataset/full/simplified/golf club.ndjson...\n",
            "Copying gs://quickdraw_dataset/full/simplified/grapes.ndjson...\n",
            "Copying gs://quickdraw_dataset/full/simplified/grass.ndjson...\n",
            "Copying gs://quickdraw_dataset/full/simplified/guitar.ndjson...\n",
            "Copying gs://quickdraw_dataset/full/simplified/hamburger.ndjson...\n",
            "Copying gs://quickdraw_dataset/full/simplified/hammer.ndjson...\n",
            "Copying gs://quickdraw_dataset/full/simplified/hand.ndjson...\n",
            "Copying gs://quickdraw_dataset/full/simplified/harp.ndjson...\n",
            "Copying gs://quickdraw_dataset/full/simplified/hat.ndjson...\n",
            "Copying gs://quickdraw_dataset/full/simplified/headphones.ndjson...\n",
            "Copying gs://quickdraw_dataset/full/simplified/hedgehog.ndjson...\n",
            "Copying gs://quickdraw_dataset/full/simplified/helicopter.ndjson...\n",
            "Copying gs://quickdraw_dataset/full/simplified/helmet.ndjson...\n",
            "Copying gs://quickdraw_dataset/full/simplified/hexagon.ndjson...\n",
            "Copying gs://quickdraw_dataset/full/simplified/hockey puck.ndjson...\n",
            "Copying gs://quickdraw_dataset/full/simplified/hockey stick.ndjson...\n",
            "Copying gs://quickdraw_dataset/full/simplified/horse.ndjson...\n",
            "Copying gs://quickdraw_dataset/full/simplified/hospital.ndjson...\n",
            "Copying gs://quickdraw_dataset/full/simplified/hot air balloon.ndjson...\n",
            "Copying gs://quickdraw_dataset/full/simplified/hot dog.ndjson...\n",
            "Copying gs://quickdraw_dataset/full/simplified/hot tub.ndjson...\n",
            "Copying gs://quickdraw_dataset/full/simplified/hourglass.ndjson...\n",
            "Copying gs://quickdraw_dataset/full/simplified/house plant.ndjson...\n",
            "Copying gs://quickdraw_dataset/full/simplified/house.ndjson...\n",
            "Copying gs://quickdraw_dataset/full/simplified/hurricane.ndjson...\n",
            "Copying gs://quickdraw_dataset/full/simplified/ice cream.ndjson...\n",
            "Copying gs://quickdraw_dataset/full/simplified/jacket.ndjson...\n",
            "Copying gs://quickdraw_dataset/full/simplified/jail.ndjson...\n",
            "Copying gs://quickdraw_dataset/full/simplified/kangaroo.ndjson...\n",
            "Copying gs://quickdraw_dataset/full/simplified/key.ndjson...\n",
            "Copying gs://quickdraw_dataset/full/simplified/keyboard.ndjson...\n",
            "Copying gs://quickdraw_dataset/full/simplified/knee.ndjson...\n",
            "Copying gs://quickdraw_dataset/full/simplified/knife.ndjson...\n",
            "Copying gs://quickdraw_dataset/full/simplified/ladder.ndjson...\n",
            "Copying gs://quickdraw_dataset/full/simplified/lantern.ndjson...\n",
            "Copying gs://quickdraw_dataset/full/simplified/laptop.ndjson...\n",
            "Copying gs://quickdraw_dataset/full/simplified/leaf.ndjson...\n",
            "Copying gs://quickdraw_dataset/full/simplified/leg.ndjson...\n",
            "Copying gs://quickdraw_dataset/full/simplified/light bulb.ndjson...\n",
            "Copying gs://quickdraw_dataset/full/simplified/lighter.ndjson...\n",
            "Copying gs://quickdraw_dataset/full/simplified/lighthouse.ndjson...\n",
            "Copying gs://quickdraw_dataset/full/simplified/lightning.ndjson...\n",
            "Copying gs://quickdraw_dataset/full/simplified/line.ndjson...\n",
            "Copying gs://quickdraw_dataset/full/simplified/lion.ndjson...\n",
            "Copying gs://quickdraw_dataset/full/simplified/lipstick.ndjson...\n",
            "Copying gs://quickdraw_dataset/full/simplified/lobster.ndjson...\n",
            "Copying gs://quickdraw_dataset/full/simplified/lollipop.ndjson...\n",
            "Copying gs://quickdraw_dataset/full/simplified/mailbox.ndjson...\n",
            "Copying gs://quickdraw_dataset/full/simplified/map.ndjson...\n",
            "Copying gs://quickdraw_dataset/full/simplified/marker.ndjson...\n",
            "Copying gs://quickdraw_dataset/full/simplified/matches.ndjson...\n",
            "Copying gs://quickdraw_dataset/full/simplified/megaphone.ndjson...\n",
            "Copying gs://quickdraw_dataset/full/simplified/mermaid.ndjson...\n",
            "Copying gs://quickdraw_dataset/full/simplified/microphone.ndjson...\n",
            "Copying gs://quickdraw_dataset/full/simplified/microwave.ndjson...\n",
            "Copying gs://quickdraw_dataset/full/simplified/monkey.ndjson...\n",
            "Copying gs://quickdraw_dataset/full/simplified/moon.ndjson...\n",
            "Copying gs://quickdraw_dataset/full/simplified/mosquito.ndjson...\n",
            "Copying gs://quickdraw_dataset/full/simplified/motorbike.ndjson...\n",
            "Copying gs://quickdraw_dataset/full/simplified/mountain.ndjson...\n",
            "Copying gs://quickdraw_dataset/full/simplified/mouse.ndjson...\n",
            "Copying gs://quickdraw_dataset/full/simplified/moustache.ndjson...\n",
            "Copying gs://quickdraw_dataset/full/simplified/mouth.ndjson...\n",
            "Copying gs://quickdraw_dataset/full/simplified/mug.ndjson...\n",
            "Copying gs://quickdraw_dataset/full/simplified/mushroom.ndjson...\n",
            "Copying gs://quickdraw_dataset/full/simplified/nail.ndjson...\n",
            "Copying gs://quickdraw_dataset/full/simplified/necklace.ndjson...\n",
            "Copying gs://quickdraw_dataset/full/simplified/nose.ndjson...\n",
            "Copying gs://quickdraw_dataset/full/simplified/ocean.ndjson...\n",
            "Copying gs://quickdraw_dataset/full/simplified/octagon.ndjson...\n",
            "Copying gs://quickdraw_dataset/full/simplified/octopus.ndjson...\n",
            "Copying gs://quickdraw_dataset/full/simplified/onion.ndjson...\n",
            "Copying gs://quickdraw_dataset/full/simplified/oven.ndjson...\n",
            "Copying gs://quickdraw_dataset/full/simplified/owl.ndjson...\n",
            "Copying gs://quickdraw_dataset/full/simplified/paint can.ndjson...\n",
            "Copying gs://quickdraw_dataset/full/simplified/paintbrush.ndjson...\n",
            "Copying gs://quickdraw_dataset/full/simplified/palm tree.ndjson...\n",
            "Copying gs://quickdraw_dataset/full/simplified/panda.ndjson...\n",
            "Copying gs://quickdraw_dataset/full/simplified/pants.ndjson...\n",
            "Copying gs://quickdraw_dataset/full/simplified/paper clip.ndjson...\n",
            "Copying gs://quickdraw_dataset/full/simplified/parachute.ndjson...\n",
            "Copying gs://quickdraw_dataset/full/simplified/parrot.ndjson...\n",
            "Copying gs://quickdraw_dataset/full/simplified/passport.ndjson...\n",
            "Copying gs://quickdraw_dataset/full/simplified/peanut.ndjson...\n",
            "Copying gs://quickdraw_dataset/full/simplified/pear.ndjson...\n",
            "Copying gs://quickdraw_dataset/full/simplified/peas.ndjson...\n",
            "Copying gs://quickdraw_dataset/full/simplified/pencil.ndjson...\n",
            "Copying gs://quickdraw_dataset/full/simplified/penguin.ndjson...\n",
            "Copying gs://quickdraw_dataset/full/simplified/piano.ndjson...\n",
            "Copying gs://quickdraw_dataset/full/simplified/pickup truck.ndjson...\n",
            "Copying gs://quickdraw_dataset/full/simplified/picture frame.ndjson...\n",
            "Copying gs://quickdraw_dataset/full/simplified/pig.ndjson...\n",
            "Copying gs://quickdraw_dataset/full/simplified/pillow.ndjson...\n",
            "Copying gs://quickdraw_dataset/full/simplified/pineapple.ndjson...\n",
            "Copying gs://quickdraw_dataset/full/simplified/pizza.ndjson...\n",
            "Copying gs://quickdraw_dataset/full/simplified/pliers.ndjson...\n",
            "Copying gs://quickdraw_dataset/full/simplified/police car.ndjson...\n",
            "Copying gs://quickdraw_dataset/full/simplified/pond.ndjson...\n",
            "Copying gs://quickdraw_dataset/full/simplified/pool.ndjson...\n",
            "Copying gs://quickdraw_dataset/full/simplified/popsicle.ndjson...\n",
            "Copying gs://quickdraw_dataset/full/simplified/postcard.ndjson...\n",
            "Copying gs://quickdraw_dataset/full/simplified/potato.ndjson...\n",
            "Copying gs://quickdraw_dataset/full/simplified/power outlet.ndjson...\n",
            "Copying gs://quickdraw_dataset/full/simplified/purse.ndjson...\n",
            "Copying gs://quickdraw_dataset/full/simplified/rabbit.ndjson...\n",
            "Copying gs://quickdraw_dataset/full/simplified/raccoon.ndjson...\n",
            "Copying gs://quickdraw_dataset/full/simplified/radio.ndjson...\n",
            "Copying gs://quickdraw_dataset/full/simplified/rain.ndjson...\n",
            "Copying gs://quickdraw_dataset/full/simplified/rainbow.ndjson...\n",
            "Copying gs://quickdraw_dataset/full/simplified/rake.ndjson...\n",
            "Copying gs://quickdraw_dataset/full/simplified/remote control.ndjson...\n",
            "Copying gs://quickdraw_dataset/full/simplified/rhinoceros.ndjson...\n",
            "Copying gs://quickdraw_dataset/full/simplified/rifle.ndjson...\n",
            "Copying gs://quickdraw_dataset/full/simplified/river.ndjson...\n",
            "Copying gs://quickdraw_dataset/full/simplified/roller coaster.ndjson...\n",
            "Copying gs://quickdraw_dataset/full/simplified/rollerskates.ndjson...\n",
            "Copying gs://quickdraw_dataset/full/simplified/sailboat.ndjson...\n",
            "Copying gs://quickdraw_dataset/full/simplified/sandwich.ndjson...\n",
            "Copying gs://quickdraw_dataset/full/simplified/saw.ndjson...\n",
            "Copying gs://quickdraw_dataset/full/simplified/saxophone.ndjson...\n",
            "Copying gs://quickdraw_dataset/full/simplified/school bus.ndjson...\n",
            "Copying gs://quickdraw_dataset/full/simplified/scissors.ndjson...\n",
            "Copying gs://quickdraw_dataset/full/simplified/scorpion.ndjson...\n",
            "Copying gs://quickdraw_dataset/full/simplified/screwdriver.ndjson...\n",
            "Copying gs://quickdraw_dataset/full/simplified/see saw.ndjson...\n",
            "Copying gs://quickdraw_dataset/full/simplified/sea turtle.ndjson...\n",
            "Copying gs://quickdraw_dataset/full/simplified/shark.ndjson...\n",
            "Copying gs://quickdraw_dataset/full/simplified/sheep.ndjson...\n",
            "Copying gs://quickdraw_dataset/full/simplified/shoe.ndjson...\n",
            "Copying gs://quickdraw_dataset/full/simplified/shorts.ndjson...\n",
            "Copying gs://quickdraw_dataset/full/simplified/shovel.ndjson...\n",
            "Copying gs://quickdraw_dataset/full/simplified/sink.ndjson...\n",
            "Copying gs://quickdraw_dataset/full/simplified/skateboard.ndjson...\n",
            "Copying gs://quickdraw_dataset/full/simplified/skull.ndjson...\n",
            "Copying gs://quickdraw_dataset/full/simplified/skyscraper.ndjson...\n",
            "Copying gs://quickdraw_dataset/full/simplified/sleeping bag.ndjson...\n",
            "Copying gs://quickdraw_dataset/full/simplified/smiley face.ndjson...\n",
            "Copying gs://quickdraw_dataset/full/simplified/snail.ndjson...\n",
            "Copying gs://quickdraw_dataset/full/simplified/snake.ndjson...\n",
            "Copying gs://quickdraw_dataset/full/simplified/snorkel.ndjson...\n",
            "Copying gs://quickdraw_dataset/full/simplified/snowflake.ndjson...\n",
            "Copying gs://quickdraw_dataset/full/simplified/snowman.ndjson...\n",
            "Copying gs://quickdraw_dataset/full/simplified/soccer ball.ndjson...\n",
            "Copying gs://quickdraw_dataset/full/simplified/sock.ndjson...\n",
            "Copying gs://quickdraw_dataset/full/simplified/speedboat.ndjson...\n",
            "Copying gs://quickdraw_dataset/full/simplified/spider.ndjson...\n",
            "Copying gs://quickdraw_dataset/full/simplified/spoon.ndjson...\n",
            "Copying gs://quickdraw_dataset/full/simplified/spreadsheet.ndjson...\n",
            "Copying gs://quickdraw_dataset/full/simplified/square.ndjson...\n",
            "Copying gs://quickdraw_dataset/full/simplified/squiggle.ndjson...\n",
            "Copying gs://quickdraw_dataset/full/simplified/squirrel.ndjson...\n",
            "Copying gs://quickdraw_dataset/full/simplified/stairs.ndjson...\n",
            "Copying gs://quickdraw_dataset/full/simplified/star.ndjson...\n",
            "Copying gs://quickdraw_dataset/full/simplified/steak.ndjson...\n",
            "Copying gs://quickdraw_dataset/full/simplified/stereo.ndjson...\n",
            "Copying gs://quickdraw_dataset/full/simplified/stethoscope.ndjson...\n",
            "Copying gs://quickdraw_dataset/full/simplified/stitches.ndjson...\n",
            "Copying gs://quickdraw_dataset/full/simplified/stop sign.ndjson...\n",
            "Copying gs://quickdraw_dataset/full/simplified/stove.ndjson...\n",
            "Copying gs://quickdraw_dataset/full/simplified/strawberry.ndjson...\n",
            "Copying gs://quickdraw_dataset/full/simplified/streetlight.ndjson...\n",
            "Copying gs://quickdraw_dataset/full/simplified/string bean.ndjson...\n",
            "Copying gs://quickdraw_dataset/full/simplified/submarine.ndjson...\n",
            "Copying gs://quickdraw_dataset/full/simplified/suitcase.ndjson...\n",
            "Copying gs://quickdraw_dataset/full/simplified/sun.ndjson...\n",
            "Copying gs://quickdraw_dataset/full/simplified/swan.ndjson...\n",
            "Copying gs://quickdraw_dataset/full/simplified/sweater.ndjson...\n",
            "Copying gs://quickdraw_dataset/full/simplified/swing set.ndjson...\n",
            "Copying gs://quickdraw_dataset/full/simplified/sword.ndjson...\n",
            "Copying gs://quickdraw_dataset/full/simplified/syringe.ndjson...\n",
            "Copying gs://quickdraw_dataset/full/simplified/t-shirt.ndjson...\n",
            "Copying gs://quickdraw_dataset/full/simplified/table.ndjson...\n",
            "Copying gs://quickdraw_dataset/full/simplified/teapot.ndjson...\n",
            "Copying gs://quickdraw_dataset/full/simplified/teddy-bear.ndjson...\n",
            "Copying gs://quickdraw_dataset/full/simplified/telephone.ndjson...\n",
            "Copying gs://quickdraw_dataset/full/simplified/television.ndjson...\n",
            "Copying gs://quickdraw_dataset/full/simplified/tennis racquet.ndjson...\n",
            "Copying gs://quickdraw_dataset/full/simplified/tent.ndjson...\n",
            "Copying gs://quickdraw_dataset/full/simplified/tiger.ndjson...\n",
            "Copying gs://quickdraw_dataset/full/simplified/toaster.ndjson...\n",
            "Copying gs://quickdraw_dataset/full/simplified/toe.ndjson...\n",
            "Copying gs://quickdraw_dataset/full/simplified/toilet.ndjson...\n",
            "Copying gs://quickdraw_dataset/full/simplified/tooth.ndjson...\n",
            "Copying gs://quickdraw_dataset/full/simplified/toothbrush.ndjson...\n",
            "Copying gs://quickdraw_dataset/full/simplified/toothpaste.ndjson...\n",
            "Copying gs://quickdraw_dataset/full/simplified/tornado.ndjson...\n",
            "Copying gs://quickdraw_dataset/full/simplified/tractor.ndjson...\n",
            "Copying gs://quickdraw_dataset/full/simplified/traffic light.ndjson...\n",
            "Copying gs://quickdraw_dataset/full/simplified/train.ndjson...\n",
            "Copying gs://quickdraw_dataset/full/simplified/tree.ndjson...\n",
            "Copying gs://quickdraw_dataset/full/simplified/triangle.ndjson...\n",
            "Copying gs://quickdraw_dataset/full/simplified/trombone.ndjson...\n",
            "Copying gs://quickdraw_dataset/full/simplified/truck.ndjson...\n",
            "Copying gs://quickdraw_dataset/full/simplified/trumpet.ndjson...\n",
            "Copying gs://quickdraw_dataset/full/simplified/umbrella.ndjson...\n",
            "Copying gs://quickdraw_dataset/full/simplified/underwear.ndjson...\n",
            "Copying gs://quickdraw_dataset/full/simplified/van.ndjson...\n",
            "Copying gs://quickdraw_dataset/full/simplified/vase.ndjson...\n",
            "Copying gs://quickdraw_dataset/full/simplified/violin.ndjson...\n",
            "Copying gs://quickdraw_dataset/full/simplified/washing machine.ndjson...\n",
            "Copying gs://quickdraw_dataset/full/simplified/watermelon.ndjson...\n",
            "Copying gs://quickdraw_dataset/full/simplified/waterslide.ndjson...\n",
            "Copying gs://quickdraw_dataset/full/simplified/whale.ndjson...\n",
            "Copying gs://quickdraw_dataset/full/simplified/wheel.ndjson...\n",
            "Copying gs://quickdraw_dataset/full/simplified/windmill.ndjson...\n",
            "Copying gs://quickdraw_dataset/full/simplified/wine bottle.ndjson...\n",
            "Copying gs://quickdraw_dataset/full/simplified/wine glass.ndjson...\n",
            "Copying gs://quickdraw_dataset/full/simplified/wristwatch.ndjson...\n",
            "Copying gs://quickdraw_dataset/full/simplified/zebra.ndjson...\n",
            "Copying gs://quickdraw_dataset/full/simplified/yoga.ndjson...\n",
            "Copying gs://quickdraw_dataset/full/simplified/zigzag.ndjson...\n",
            "| [345/345 files][ 22.4 GiB/ 22.4 GiB] 100% Done  96.6 MiB/s ETA 00:00:00       \n",
            "Operation completed over 345 objects/22.4 GiB.                                   \n"
          ]
        }
      ]
    },
    {
      "cell_type": "code",
      "source": [
        "import json\n",
        "file_name = \"airplane.ndjson\"\n",
        "df_planes = pd.DataFrame(columns= ['word', 'countrycode', 'timestamp', 'recognized', 'key_id', 'drawing'])\n",
        "with open(file_name) as f:\n",
        "  i = 100\n",
        "  for row in f.readlines():\n",
        "    data = json.loads(row)#f.readline())\n",
        "    df = pd.DataFrame.from_dict(data,orient='index').T\n",
        "    i-=1\n",
        "    df_planes= df_planes.append([df])\n",
        "    if i == 0:\n",
        "      break\n",
        "  #print(data)\n",
        "  #print(df_planes.append([df]))\n",
        "df_planes = df_planes[df_planes.recognized == True]"
      ],
      "metadata": {
        "id": "8ldDcDVkjBTs"
      },
      "execution_count": 143,
      "outputs": []
    },
    {
      "cell_type": "code",
      "source": [
        "from tensorflow import keras\n",
        "from tensorflow.keras import layers\n",
        "import numpy as np\n",
        "import tensorflow as tf\n",
        "\n",
        "planes = df_planes.drawing.to_list()\n",
        "#tf.keras.preprocessing.sequence.pad_sequences(planes, padding = \"pre\")"
      ],
      "metadata": {
        "id": "C6RcYbFYqq-T"
      },
      "execution_count": 145,
      "outputs": []
    },
    {
      "cell_type": "code",
      "source": [
        "print(len(planes))\n",
        "print(max([len(x)for x in planes]))\n",
        "print(max([len(x) for line in planes for x in line]))\n",
        "print(max([len(x) for plane in planes for line in plane for x in line ]))"
      ],
      "metadata": {
        "id": "ygnAJ5XJrBtc",
        "outputId": "8a4cb6e3-4de8-4e1a-b5ab-ac8c45797537",
        "colab": {
          "base_uri": "https://localhost:8080/"
        }
      },
      "execution_count": 146,
      "outputs": [
        {
          "output_type": "stream",
          "name": "stdout",
          "text": [
            "91\n",
            "15\n",
            "2\n",
            "42\n"
          ]
        }
      ]
    },
    {
      "cell_type": "code",
      "source": [
        "# normalize\n",
        "max_line_len = 42\n",
        "max_storkes_len = 15\n",
        "norm_planes = []\n",
        "for plane in planes:\n",
        "  plane_norm = []\n",
        "  for line in plane:\n",
        "    x,y = line\n",
        "    x = ([0]* (max_line_len - len(x) if len(x)<max_line_len else 0) + x)[:max_line_len]\n",
        "    y = ([0]* (max_line_len - len(y) if len(y)<max_line_len else 0) + y)[:max_line_len]\n",
        "\n",
        "    plane_norm.append(np.array([np.array(x)/255,np.array(y)/255]))\n",
        "  plane_norm = ([[np.array([0]*max_line_len),np.array([0]*max_line_len)]]\\\n",
        "                *(max_storkes_len - len(plane_norm) if len(plane_norm)<max_storkes_len else 0)\\\n",
        "                + plane_norm)[:max_storkes_len]\n",
        "  norm_planes.append(np.array(plane_norm))\n",
        "\n",
        "norm_planes = np.array(norm_planes)\n",
        "norm_planes.shape\n",
        "                    "
      ],
      "metadata": {
        "id": "bNp4dwnYtLm7",
        "outputId": "c491c546-5416-49af-80f2-cc9f7dddd785",
        "colab": {
          "base_uri": "https://localhost:8080/"
        }
      },
      "execution_count": 170,
      "outputs": [
        {
          "output_type": "execute_result",
          "data": {
            "text/plain": [
              "(91, 15, 2, 42)"
            ]
          },
          "metadata": {},
          "execution_count": 170
        }
      ]
    },
    {
      "cell_type": "code",
      "source": [
        "from keras.layers import Bidirectional\n",
        "from tensorflow import keras\n",
        "from keras.models import Sequential\n",
        "from keras.layers import LSTM\n",
        "from keras.layers import Activation, Dense\n",
        "import numpy as np"
      ],
      "metadata": {
        "id": "FK722hRHm__q"
      },
      "execution_count": null,
      "outputs": []
    },
    {
      "cell_type": "code",
      "source": [
        "np.array([[[1]+[0]*364]*91]).shape"
      ],
      "metadata": {
        "id": "xV9SlX-96U3a",
        "outputId": "e93b6818-38a6-403d-cb83-037f0c5d82b3",
        "colab": {
          "base_uri": "https://localhost:8080/"
        }
      },
      "execution_count": 181,
      "outputs": [
        {
          "output_type": "execute_result",
          "data": {
            "text/plain": [
              "(1, 91, 366)"
            ]
          },
          "metadata": {},
          "execution_count": 181
        }
      ]
    },
    {
      "cell_type": "code",
      "source": [
        "model = keras.Sequential()\n",
        "model.add(Bidirectional(LSTM(1024, input_shape=(15, 2, 42)))) # biLSTM two layer\n",
        "model.add(Bidirectional(LSTM(1024)))\n",
        "model.add(keras.layers.Dense(2048)) # MLP 2048-1024-345\n",
        "model.add(keras.layers.Dense(1024))\n",
        "model.add(keras.layers.Dense(345)) # , activation='custom'\n",
        "#sgdr = CyclicLR(min_lr=0.0, max_lr=0.05, base_epochs=10, mul_epochs=2)\n",
        "opt = keras.optimizers.Adam(learning_rate=0.01)\n",
        "model.compile(loss='categorical_crossentropy', optimizer=opt, metrics=['accuracy'])\n",
        "model.fit(norm_planes, [[1]*91], epochs=1, batch_size=1, verbose=2)\n",
        "#SGDR (Cosine Annealing) Callback for Keras: https://gist.github.com/Callidior/747eb767862c9d48f9d900a6373b16d1\n",
        "#def learning_rate(epoch):\n",
        "#  return min_lr + 0.5 * (max_lr - min_lr) * (1 + cos(pi * epoch/num_epochs))"
      ],
      "metadata": {
        "id": "O52uTio6nBba",
        "outputId": "c8ada841-c836-4cb5-c093-d4245fccbedd",
        "colab": {
          "base_uri": "https://localhost:8080/",
          "height": 415
        }
      },
      "execution_count": 184,
      "outputs": [
        {
          "output_type": "error",
          "ename": "ValueError",
          "evalue": "ignored",
          "traceback": [
            "\u001b[0;31m---------------------------------------------------------------------------\u001b[0m",
            "\u001b[0;31mValueError\u001b[0m                                Traceback (most recent call last)",
            "\u001b[0;32m<ipython-input-184-4909c6434b47>\u001b[0m in \u001b[0;36m<module>\u001b[0;34m\u001b[0m\n\u001b[1;32m      8\u001b[0m \u001b[0mopt\u001b[0m \u001b[0;34m=\u001b[0m \u001b[0mkeras\u001b[0m\u001b[0;34m.\u001b[0m\u001b[0moptimizers\u001b[0m\u001b[0;34m.\u001b[0m\u001b[0mAdam\u001b[0m\u001b[0;34m(\u001b[0m\u001b[0mlearning_rate\u001b[0m\u001b[0;34m=\u001b[0m\u001b[0;36m0.01\u001b[0m\u001b[0;34m)\u001b[0m\u001b[0;34m\u001b[0m\u001b[0;34m\u001b[0m\u001b[0m\n\u001b[1;32m      9\u001b[0m \u001b[0mmodel\u001b[0m\u001b[0;34m.\u001b[0m\u001b[0mcompile\u001b[0m\u001b[0;34m(\u001b[0m\u001b[0mloss\u001b[0m\u001b[0;34m=\u001b[0m\u001b[0;34m'categorical_crossentropy'\u001b[0m\u001b[0;34m,\u001b[0m \u001b[0moptimizer\u001b[0m\u001b[0;34m=\u001b[0m\u001b[0mopt\u001b[0m\u001b[0;34m,\u001b[0m \u001b[0mmetrics\u001b[0m\u001b[0;34m=\u001b[0m\u001b[0;34m[\u001b[0m\u001b[0;34m'accuracy'\u001b[0m\u001b[0;34m]\u001b[0m\u001b[0;34m)\u001b[0m\u001b[0;34m\u001b[0m\u001b[0;34m\u001b[0m\u001b[0m\n\u001b[0;32m---> 10\u001b[0;31m \u001b[0mmodel\u001b[0m\u001b[0;34m.\u001b[0m\u001b[0mfit\u001b[0m\u001b[0;34m(\u001b[0m\u001b[0mnorm_planes\u001b[0m\u001b[0;34m,\u001b[0m \u001b[0;34m[\u001b[0m\u001b[0;34m[\u001b[0m\u001b[0;36m1\u001b[0m\u001b[0;34m]\u001b[0m\u001b[0;34m*\u001b[0m\u001b[0;36m91\u001b[0m\u001b[0;34m]\u001b[0m\u001b[0;34m,\u001b[0m \u001b[0mepochs\u001b[0m\u001b[0;34m=\u001b[0m\u001b[0;36m1\u001b[0m\u001b[0;34m,\u001b[0m \u001b[0mbatch_size\u001b[0m\u001b[0;34m=\u001b[0m\u001b[0;36m1\u001b[0m\u001b[0;34m,\u001b[0m \u001b[0mverbose\u001b[0m\u001b[0;34m=\u001b[0m\u001b[0;36m2\u001b[0m\u001b[0;34m)\u001b[0m\u001b[0;34m\u001b[0m\u001b[0;34m\u001b[0m\u001b[0m\n\u001b[0m\u001b[1;32m     11\u001b[0m \u001b[0;31m#SGDR (Cosine Annealing) Callback for Keras: https://gist.github.com/Callidior/747eb767862c9d48f9d900a6373b16d1\u001b[0m\u001b[0;34m\u001b[0m\u001b[0;34m\u001b[0m\u001b[0;34m\u001b[0m\u001b[0m\n\u001b[1;32m     12\u001b[0m \u001b[0;31m#def learning_rate(epoch):\u001b[0m\u001b[0;34m\u001b[0m\u001b[0;34m\u001b[0m\u001b[0;34m\u001b[0m\u001b[0m\n",
            "\u001b[0;32m/usr/local/lib/python3.7/dist-packages/keras/utils/traceback_utils.py\u001b[0m in \u001b[0;36merror_handler\u001b[0;34m(*args, **kwargs)\u001b[0m\n\u001b[1;32m     65\u001b[0m     \u001b[0;32mexcept\u001b[0m \u001b[0mException\u001b[0m \u001b[0;32mas\u001b[0m \u001b[0me\u001b[0m\u001b[0;34m:\u001b[0m  \u001b[0;31m# pylint: disable=broad-except\u001b[0m\u001b[0;34m\u001b[0m\u001b[0;34m\u001b[0m\u001b[0m\n\u001b[1;32m     66\u001b[0m       \u001b[0mfiltered_tb\u001b[0m \u001b[0;34m=\u001b[0m \u001b[0m_process_traceback_frames\u001b[0m\u001b[0;34m(\u001b[0m\u001b[0me\u001b[0m\u001b[0;34m.\u001b[0m\u001b[0m__traceback__\u001b[0m\u001b[0;34m)\u001b[0m\u001b[0;34m\u001b[0m\u001b[0;34m\u001b[0m\u001b[0m\n\u001b[0;32m---> 67\u001b[0;31m       \u001b[0;32mraise\u001b[0m \u001b[0me\u001b[0m\u001b[0;34m.\u001b[0m\u001b[0mwith_traceback\u001b[0m\u001b[0;34m(\u001b[0m\u001b[0mfiltered_tb\u001b[0m\u001b[0;34m)\u001b[0m \u001b[0;32mfrom\u001b[0m \u001b[0;32mNone\u001b[0m\u001b[0;34m\u001b[0m\u001b[0;34m\u001b[0m\u001b[0m\n\u001b[0m\u001b[1;32m     68\u001b[0m     \u001b[0;32mfinally\u001b[0m\u001b[0;34m:\u001b[0m\u001b[0;34m\u001b[0m\u001b[0;34m\u001b[0m\u001b[0m\n\u001b[1;32m     69\u001b[0m       \u001b[0;32mdel\u001b[0m \u001b[0mfiltered_tb\u001b[0m\u001b[0;34m\u001b[0m\u001b[0;34m\u001b[0m\u001b[0m\n",
            "\u001b[0;32m/usr/local/lib/python3.7/dist-packages/keras/engine/data_adapter.py\u001b[0m in \u001b[0;36mselect_data_adapter\u001b[0;34m(x, y)\u001b[0m\n\u001b[1;32m    986\u001b[0m         \u001b[0;34m\"Failed to find data adapter that can handle \"\u001b[0m\u001b[0;34m\u001b[0m\u001b[0;34m\u001b[0m\u001b[0m\n\u001b[1;32m    987\u001b[0m         \"input: {}, {}\".format(\n\u001b[0;32m--> 988\u001b[0;31m             _type_name(x), _type_name(y)))\n\u001b[0m\u001b[1;32m    989\u001b[0m   \u001b[0;32melif\u001b[0m \u001b[0mlen\u001b[0m\u001b[0;34m(\u001b[0m\u001b[0madapter_cls\u001b[0m\u001b[0;34m)\u001b[0m \u001b[0;34m>\u001b[0m \u001b[0;36m1\u001b[0m\u001b[0;34m:\u001b[0m\u001b[0;34m\u001b[0m\u001b[0;34m\u001b[0m\u001b[0m\n\u001b[1;32m    990\u001b[0m     raise RuntimeError(\n",
            "\u001b[0;31mValueError\u001b[0m: Failed to find data adapter that can handle input: <class 'numpy.ndarray'>, (<class 'list'> containing values of types {'(<class \\'list\\'> containing values of types {\"<class \\'int\\'>\"})'})"
          ]
        }
      ]
    },
    {
      "cell_type": "code",
      "source": [
        "model.summary()"
      ],
      "metadata": {
        "id": "7MegUFQr5qBj",
        "outputId": "8fe4ed49-42e6-49fa-d0bd-bc5cd39015a3",
        "colab": {
          "base_uri": "https://localhost:8080/",
          "height": 321
        }
      },
      "execution_count": 176,
      "outputs": [
        {
          "output_type": "error",
          "ename": "ValueError",
          "evalue": "ignored",
          "traceback": [
            "\u001b[0;31m---------------------------------------------------------------------------\u001b[0m",
            "\u001b[0;31mValueError\u001b[0m                                Traceback (most recent call last)",
            "\u001b[0;32m<ipython-input-176-5f15418b3570>\u001b[0m in \u001b[0;36m<module>\u001b[0;34m\u001b[0m\n\u001b[0;32m----> 1\u001b[0;31m \u001b[0mmodel\u001b[0m\u001b[0;34m.\u001b[0m\u001b[0msummary\u001b[0m\u001b[0;34m(\u001b[0m\u001b[0;34m)\u001b[0m\u001b[0;34m\u001b[0m\u001b[0;34m\u001b[0m\u001b[0m\n\u001b[0m",
            "\u001b[0;32m/usr/local/lib/python3.7/dist-packages/keras/engine/training.py\u001b[0m in \u001b[0;36msummary\u001b[0;34m(self, line_length, positions, print_fn, expand_nested, show_trainable)\u001b[0m\n\u001b[1;32m   2868\u001b[0m     \u001b[0;32mif\u001b[0m \u001b[0;32mnot\u001b[0m \u001b[0mself\u001b[0m\u001b[0;34m.\u001b[0m\u001b[0mbuilt\u001b[0m\u001b[0;34m:\u001b[0m\u001b[0;34m\u001b[0m\u001b[0;34m\u001b[0m\u001b[0m\n\u001b[1;32m   2869\u001b[0m       raise ValueError(\n\u001b[0;32m-> 2870\u001b[0;31m           \u001b[0;34m'This model has not yet been built. '\u001b[0m\u001b[0;34m\u001b[0m\u001b[0;34m\u001b[0m\u001b[0m\n\u001b[0m\u001b[1;32m   2871\u001b[0m           \u001b[0;34m'Build the model first by calling `build()` or by calling '\u001b[0m\u001b[0;34m\u001b[0m\u001b[0;34m\u001b[0m\u001b[0m\n\u001b[1;32m   2872\u001b[0m           'the model on a batch of data.')\n",
            "\u001b[0;31mValueError\u001b[0m: This model has not yet been built. Build the model first by calling `build()` or by calling the model on a batch of data."
          ]
        }
      ]
    },
    {
      "cell_type": "code",
      "execution_count": 42,
      "outputs": [],
      "source": [
        "\n",
        "from random import random\n",
        "from numpy import array\n",
        "from numpy import cumsum\n",
        "from keras.models import Sequential\n",
        "from keras.layers import LSTM\n",
        "from keras.layers import Dense\n",
        "from keras.layers import TimeDistributed\n",
        "from keras.layers import Bidirectional\n",
        " \n",
        "# create a sequence classification instance\n",
        "def get_sequence(n_timesteps):\n",
        "\t# create a sequence of random numbers in [0,1]\n",
        "\tX = array([[random() for _ in range(3)] for _ in range(n_timesteps)])\n",
        "\t# calculate cut-off value to change class values\n",
        "\tlimit = n_timesteps/4.0\n",
        "\t# determine the class outcome for each item in cumulative sequence\n",
        "\ty = array([0 if x < limit else 1 for x in cumsum(X)])\n",
        "\t# reshape input and output data to be suitable for LSTMs\n",
        "\tX = X.reshape(1, n_timesteps, 3)\n",
        "\ty = y.reshape(1, n_timesteps, 3)\n",
        "\treturn X, y\n"
      ],
      "metadata": {
        "pycharm": {
          "name": "#%%\n"
        },
        "id": "Tgv2V6gxTLqX"
      }
    },
    {
      "cell_type": "code",
      "source": [
        "get_sequence(n_timesteps)"
      ],
      "metadata": {
        "id": "z5cTIa9YhE5q",
        "outputId": "8f53ffd8-0e7c-40c7-d11b-f4d436d28b44",
        "colab": {
          "base_uri": "https://localhost:8080/"
        }
      },
      "execution_count": 65,
      "outputs": [
        {
          "output_type": "execute_result",
          "data": {
            "text/plain": [
              "(array([[[0.18856484, 0.83249543, 0.63857166],\n",
              "         [0.02608945, 0.61173493, 0.38091465],\n",
              "         [0.60035833, 0.61780448, 0.81659958],\n",
              "         [0.83572071, 0.66909217, 0.82620664],\n",
              "         [0.60983629, 0.57739309, 0.34279736],\n",
              "         [0.92488484, 0.80804231, 0.43278567],\n",
              "         [0.99228968, 0.86938522, 0.14567868],\n",
              "         [0.09280591, 0.21200722, 0.89687278],\n",
              "         [0.45207773, 0.30274   , 0.0257854 ],\n",
              "         [0.08396502, 0.47685503, 0.5966228 ]]]), array([[[0, 0, 0],\n",
              "         [0, 0, 1],\n",
              "         [1, 1, 1],\n",
              "         [1, 1, 1],\n",
              "         [1, 1, 1],\n",
              "         [1, 1, 1],\n",
              "         [1, 1, 1],\n",
              "         [1, 1, 1],\n",
              "         [1, 1, 1],\n",
              "         [1, 1, 1]]]))"
            ]
          },
          "metadata": {},
          "execution_count": 65
        }
      ]
    },
    {
      "cell_type": "code",
      "source": [
        " \n",
        "# define problem properties\n",
        "n_timesteps = 10\n",
        "# define LSTM\n",
        "model = Sequential()\n",
        "model.add(Bidirectional(LSTM(20, return_sequences=True), input_shape=(n_timesteps, 3)))\n",
        "model.add(TimeDistributed(Dense(3, activation='sigmoid')))\n",
        "model.compile(loss='binary_crossentropy', optimizer='adam', metrics=['accuracy'])"
      ],
      "metadata": {
        "id": "Mu2zqI_fc2E6"
      },
      "execution_count": 47,
      "outputs": []
    },
    {
      "cell_type": "code",
      "source": [
        "model.summary()"
      ],
      "metadata": {
        "id": "LRp8LGMGdEhb",
        "outputId": "437e4eee-ab37-4f31-b3cf-45cc964db590",
        "colab": {
          "base_uri": "https://localhost:8080/"
        }
      },
      "execution_count": 48,
      "outputs": [
        {
          "output_type": "stream",
          "name": "stdout",
          "text": [
            "Model: \"sequential_6\"\n",
            "_________________________________________________________________\n",
            " Layer (type)                Output Shape              Param #   \n",
            "=================================================================\n",
            " bidirectional_6 (Bidirectio  (None, 10, 40)           3840      \n",
            " nal)                                                            \n",
            "                                                                 \n",
            " time_distributed_6 (TimeDis  (None, 10, 3)            123       \n",
            " tributed)                                                       \n",
            "                                                                 \n",
            "=================================================================\n",
            "Total params: 3,963\n",
            "Trainable params: 3,963\n",
            "Non-trainable params: 0\n",
            "_________________________________________________________________\n"
          ]
        }
      ]
    },
    {
      "cell_type": "code",
      "source": [
        "# train LSTM\n",
        "for epoch in range(100):\n",
        "\t# generate new random sequence\n",
        "\tX,y = get_sequence(n_timesteps)\n",
        "\t# fit model for one epoch on this sequence\n",
        "\tmodel.fit(X, y, epochs=1, batch_size=1, verbose=0)\n",
        "# evaluate LSTM\n",
        "X,y = get_sequence(n_timesteps)\n",
        "yhat = model.predict(X, verbose=0)\n",
        "for i in range(n_timesteps):\n",
        "\tprint('Expected:', y[0, i], 'Predicted', yhat[0, i])"
      ],
      "metadata": {
        "id": "xdfg1Kkac596",
        "outputId": "b8f7c1b7-d6ee-4a01-aca2-9d7e6e15714b",
        "colab": {
          "base_uri": "https://localhost:8080/"
        }
      },
      "execution_count": 51,
      "outputs": [
        {
          "output_type": "stream",
          "name": "stdout",
          "text": [
            "Expected: [0 0 0] Predicted [0.29998505 0.31233665 0.62552375]\n",
            "Expected: [0 1 1] Predicted [0.46193483 0.53070325 0.7548416 ]\n",
            "Expected: [1 1 1] Predicted [0.73518914 0.83131474 0.8896696 ]\n",
            "Expected: [1 1 1] Predicted [0.91115403 0.95606333 0.9539727 ]\n",
            "Expected: [1 1 1] Predicted [0.95958245 0.98238033 0.973434  ]\n",
            "Expected: [1 1 1] Predicted [0.97319645 0.9887903  0.977748  ]\n",
            "Expected: [1 1 1] Predicted [0.97938395 0.9917247  0.97778785]\n",
            "Expected: [1 1 1] Predicted [0.98199743 0.99263257 0.9744278 ]\n",
            "Expected: [1 1 1] Predicted [0.98331285 0.9931567  0.9714486 ]\n",
            "Expected: [1 1 1] Predicted [0.9838081  0.99365616 0.9698224 ]\n"
          ]
        }
      ]
    },
    {
      "cell_type": "code",
      "source": [
        "get_sequence(n_timesteps)"
      ],
      "metadata": {
        "id": "QGA9TJv0c9vb",
        "outputId": "a178e37c-6e65-4e11-c5db-3fe0dffa6757",
        "colab": {
          "base_uri": "https://localhost:8080/"
        }
      },
      "execution_count": 14,
      "outputs": [
        {
          "output_type": "execute_result",
          "data": {
            "text/plain": [
              "(array([[[0.95687753],\n",
              "         [0.06930357],\n",
              "         [0.89206917],\n",
              "         [0.62924956],\n",
              "         [0.53936265],\n",
              "         [0.5261289 ],\n",
              "         [0.38954884],\n",
              "         [0.05565213],\n",
              "         [0.98006839],\n",
              "         [0.39675545]]]), array([[[0],\n",
              "         [0],\n",
              "         [0],\n",
              "         [1],\n",
              "         [1],\n",
              "         [1],\n",
              "         [1],\n",
              "         [1],\n",
              "         [1],\n",
              "         [1]]]))"
            ]
          },
          "metadata": {},
          "execution_count": 14
        }
      ]
    }
  ],
  "metadata": {
    "kernelspec": {
      "display_name": "Python 3 (ipykernel)",
      "language": "python",
      "name": "python3"
    },
    "language_info": {
      "codemirror_mode": {
        "name": "ipython",
        "version": 3
      },
      "file_extension": ".py",
      "mimetype": "text/x-python",
      "name": "python",
      "nbconvert_exporter": "python",
      "pygments_lexer": "ipython3",
      "version": "3.9.7"
    },
    "colab": {
      "provenance": []
    }
  },
  "nbformat": 4,
  "nbformat_minor": 0
}