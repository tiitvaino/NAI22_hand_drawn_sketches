{
 "cells": [
  {
   "cell_type": "code",
   "execution_count": null,
   "metadata": {},
   "outputs": [],
   "source": [
    "# Main classes\n",
    "#!gsutil -mq cp \"gs://quickdraw_dataset/full/simplified/keyboard.ndjson\" ./raw_data # Karl-Johan\n",
    "#!gsutil -mq cp \"gs://quickdraw_dataset/full/simplified/monkey.ndjson\" ./raw_data # Mart\n",
    "#!gsutil -mq cp \"gs://quickdraw_dataset/full/simplified/fish.ndjson\" ./raw_data # Tiit"
   ]
  },
  {
   "cell_type": "code",
   "execution_count": 1,
   "metadata": {},
   "outputs": [],
   "source": [
    "import json\n",
    "import os \n",
    "\n",
    "import numpy as np\n",
    "import pandas as pd\n",
    "import matplotlib.pyplot as plt\n",
    "%matplotlib inline\n",
    "\n",
    "from PIL import Image\n",
    "from IPython.display import display\n",
    "import cv2\n",
    "\n",
    "import warnings\n",
    "warnings.filterwarnings('ignore')"
   ]
  },
  {
   "cell_type": "code",
   "execution_count": 27,
   "metadata": {},
   "outputs": [],
   "source": [
    "def read_sketch_data(file_name:str, max_lines_to_read:int=None, max_nr_elements:int=None, good_only:bool=True)->pd.DataFrame:\n",
    "  \"\"\"\n",
    "  Read from info about one class of sketches data.\n",
    "  If max_nr_elements==None then all info is read.\n",
    "  If good_only==False then all sketces info is saved.\n",
    "  \"\"\"\n",
    "  print(f'Reading sketches from {file_name}')\n",
    "  df = pd.DataFrame(columns= ['word', 'countrycode', 'timestamp', 'recognized', 'key_id', 'drawing'])\n",
    "  nr_elements = 0\n",
    "  with open(file_name) as f:\n",
    "    lines = f.readlines()\n",
    "    print(len(lines))\n",
    "    for row in lines[30000:]:\n",
    "      data = json.loads(row)\n",
    "      df_row = pd.DataFrame.from_dict(data,orient='index').T\n",
    "      if not df_row['recognized'].iloc[0]:\n",
    "        continue\n",
    "      df = df.append([df_row])\n",
    "      if max_lines_to_read != None:\n",
    "        nr_elements+=1\n",
    "        if max_lines_to_read <= nr_elements:\n",
    "          break\n",
    "  # get only good pictures\n",
    "  if good_only:\n",
    "    df = df[df.recognized == True]\n",
    "\n",
    "  return df.sample(frac = 1)[:max_nr_elements if max_nr_elements else len(df)]\n",
    "\n",
    "def read_sketches_data(data_files:list=None, max_lines_to_read:int=None, max_nr_imgs_per_cls:int=None, good_only:bool=True)->pd.DataFrame:\n",
    "  \"\"\"\"\n",
    "  Read every desired class info into one dataframe.\n",
    "  \"\"\"\n",
    "\n",
    "  dataframes_dict = dict()\n",
    "  for class_name in data_files:\n",
    "    df_sketches = pd.DataFrame(columns= ['word', 'countrycode', 'timestamp', 'recognized', 'key_id', 'drawing'])\n",
    "    df_sketches = df_sketches.append([read_sketch_data(class_name, max_lines_to_read, max_nr_imgs_per_cls,good_only)])\n",
    "    word = df_sketches.word.iloc[0]\n",
    "    dataframes_dict[word]=df_sketches\n",
    "  \n",
    "  return dataframes_dict"
   ]
  },
  {
   "cell_type": "code",
   "execution_count": 28,
   "metadata": {},
   "outputs": [],
   "source": [
    "def vector_to_img(vector)->np.array:\n",
    "  def resize_point(x,y,size_from_original)->tuple:\n",
    "    return round(x*size_from_original),round(y*size_from_original)\n",
    "\n",
    "  stroke_locs =  [list(zip(stroke[0],stroke[1]))for stroke in vector]\n",
    "  image = np.full((100,100),255,dtype=np.uint8)\n",
    "  for stroke in stroke_locs:\n",
    "    last_point = resize_point(int(stroke[0][0]),int(stroke[0][1]),0.25)\n",
    "    for x,y in stroke:\n",
    "      new_point = resize_point(int(x),int(y),0.25)\n",
    "      cv2.line(image, last_point, new_point, 0, 2)\n",
    "      last_point = new_point\n",
    "  return image\n",
    "\n",
    "def visualise_sketch(image):\n",
    "  display(Image.fromarray(image))\n",
    "\n",
    "def visualise_representative_sketches(dataframes_dict:dict):\n",
    "  for class_name, df_class in dataframes_dict.items():\n",
    "    print(class_name)\n",
    "    visualise_sketch(vector_to_img(df_class[df_class['recognized']==True]['drawing'].iloc[0]))"
   ]
  },
  {
   "cell_type": "code",
   "execution_count": 31,
   "metadata": {},
   "outputs": [
    {
     "data": {
      "text/html": [
       "<div>\n",
       "<style scoped>\n",
       "    .dataframe tbody tr th:only-of-type {\n",
       "        vertical-align: middle;\n",
       "    }\n",
       "\n",
       "    .dataframe tbody tr th {\n",
       "        vertical-align: top;\n",
       "    }\n",
       "\n",
       "    .dataframe thead th {\n",
       "        text-align: right;\n",
       "    }\n",
       "</style>\n",
       "<table border=\"1\" class=\"dataframe\">\n",
       "  <thead>\n",
       "    <tr style=\"text-align: right;\">\n",
       "      <th></th>\n",
       "      <th>word</th>\n",
       "      <th>countrycode</th>\n",
       "      <th>timestamp</th>\n",
       "      <th>recognized</th>\n",
       "      <th>key_id</th>\n",
       "      <th>drawing</th>\n",
       "      <th>user_valuation</th>\n",
       "    </tr>\n",
       "  </thead>\n",
       "  <tbody>\n",
       "    <tr>\n",
       "      <th>0</th>\n",
       "      <td>fish</td>\n",
       "      <td>SE</td>\n",
       "      <td>2017-03-24 08:13:20.70309 UTC</td>\n",
       "      <td>True</td>\n",
       "      <td>5032798173790208</td>\n",
       "      <td>[[[193, 107, 54, 21, 0, 15, 73, 122, 162, 170,...</td>\n",
       "      <td>None</td>\n",
       "    </tr>\n",
       "    <tr>\n",
       "      <th>0</th>\n",
       "      <td>fish</td>\n",
       "      <td>US</td>\n",
       "      <td>2017-01-23 17:44:45.52386 UTC</td>\n",
       "      <td>True</td>\n",
       "      <td>5524799012995072</td>\n",
       "      <td>[[[102, 96, 87, 36, 17, 4, 1, 1, 20, 33, 51, 7...</td>\n",
       "      <td>None</td>\n",
       "    </tr>\n",
       "    <tr>\n",
       "      <th>0</th>\n",
       "      <td>fish</td>\n",
       "      <td>PH</td>\n",
       "      <td>2017-03-28 06:21:12.52972 UTC</td>\n",
       "      <td>True</td>\n",
       "      <td>5522290026479616</td>\n",
       "      <td>[[[197, 196, 190, 163, 124, 97, 84, 49, 0, 5, ...</td>\n",
       "      <td>None</td>\n",
       "    </tr>\n",
       "    <tr>\n",
       "      <th>0</th>\n",
       "      <td>fish</td>\n",
       "      <td>MX</td>\n",
       "      <td>2017-03-17 18:13:50.71068 UTC</td>\n",
       "      <td>True</td>\n",
       "      <td>5761628052127744</td>\n",
       "      <td>[[[254, 173, 152, 107, 67, 30, 19, 10, 4, 0, 6...</td>\n",
       "      <td>None</td>\n",
       "    </tr>\n",
       "    <tr>\n",
       "      <th>0</th>\n",
       "      <td>fish</td>\n",
       "      <td>TH</td>\n",
       "      <td>2017-03-27 03:43:09.86825 UTC</td>\n",
       "      <td>True</td>\n",
       "      <td>5716373223243776</td>\n",
       "      <td>[[[75, 84, 105, 150, 179, 209, 234, 245, 254, ...</td>\n",
       "      <td>None</td>\n",
       "    </tr>\n",
       "  </tbody>\n",
       "</table>\n",
       "</div>"
      ],
      "text/plain": [
       "   word countrycode                      timestamp recognized  \\\n",
       "0  fish          SE  2017-03-24 08:13:20.70309 UTC       True   \n",
       "0  fish          US  2017-01-23 17:44:45.52386 UTC       True   \n",
       "0  fish          PH  2017-03-28 06:21:12.52972 UTC       True   \n",
       "0  fish          MX  2017-03-17 18:13:50.71068 UTC       True   \n",
       "0  fish          TH  2017-03-27 03:43:09.86825 UTC       True   \n",
       "\n",
       "             key_id                                            drawing  \\\n",
       "0  5032798173790208  [[[193, 107, 54, 21, 0, 15, 73, 122, 162, 170,...   \n",
       "0  5524799012995072  [[[102, 96, 87, 36, 17, 4, 1, 1, 20, 33, 51, 7...   \n",
       "0  5522290026479616  [[[197, 196, 190, 163, 124, 97, 84, 49, 0, 5, ...   \n",
       "0  5761628052127744  [[[254, 173, 152, 107, 67, 30, 19, 10, 4, 0, 6...   \n",
       "0  5716373223243776  [[[75, 84, 105, 150, 179, 209, 234, 245, 254, ...   \n",
       "\n",
       "  user_valuation  \n",
       "0           None  \n",
       "0           None  \n",
       "0           None  \n",
       "0           None  \n",
       "0           None  "
      ]
     },
     "execution_count": 31,
     "metadata": {},
     "output_type": "execute_result"
    }
   ],
   "source": [
    "df_main"
   ]
  },
  {
   "cell_type": "code",
   "execution_count": 30,
   "metadata": {},
   "outputs": [
    {
     "name": "stdout",
     "output_type": "stream",
     "text": [
      "['./raw_data/fish.ndjson']\n",
      "Reading sketches from ./raw_data/fish.ndjson\n",
      "134150\n",
      "Valuate, how recognizable this image is\n"
     ]
    },
    {
     "data": {
      "image/png": "[encoded data removed]",
      "text/plain": [
       "<PIL.Image.Image image mode=L size=100x100>"
      ]
     },
     "metadata": {},
     "output_type": "display_data"
    },
    {
     "name": "stdout",
     "output_type": "stream",
     "text": [
      "Valuate, how recognizable this image is\n"
     ]
    },
    {
     "data": {
      "image/png": "[encoded data removed]",
      "text/plain": [
       "<PIL.Image.Image image mode=L size=100x100>"
      ]
     },
     "metadata": {},
     "output_type": "display_data"
    },
    {
     "name": "stdout",
     "output_type": "stream",
     "text": [
      "Valuate, how recognizable this image is\n"
     ]
    },
    {
     "data": {
      "image/png": "[encoded data removed]",
      "text/plain": [
       "<PIL.Image.Image image mode=L size=100x100>"
      ]
     },
     "metadata": {},
     "output_type": "display_data"
    },
    {
     "name": "stdout",
     "output_type": "stream",
     "text": [
      "Valuate, how recognizable this image is\n"
     ]
    },
    {
     "data": {
      "image/png": "[encoded data removed]",
      "text/plain": [
       "<PIL.Image.Image image mode=L size=100x100>"
      ]
     },
     "metadata": {},
     "output_type": "display_data"
    },
    {
     "name": "stdout",
     "output_type": "stream",
     "text": [
      "Valuate, how recognizable this image is\n"
     ]
    },
    {
     "data": {
      "image/png": "[encoded data removed]",
      "text/plain": [
       "<PIL.Image.Image image mode=L size=100x100>"
      ]
     },
     "metadata": {},
     "output_type": "display_data"
    },
    {
     "data": {
      "text/html": [
       "<div>\n",
       "<style scoped>\n",
       "    .dataframe tbody tr th:only-of-type {\n",
       "        vertical-align: middle;\n",
       "    }\n",
       "\n",
       "    .dataframe tbody tr th {\n",
       "        vertical-align: top;\n",
       "    }\n",
       "\n",
       "    .dataframe thead th {\n",
       "        text-align: right;\n",
       "    }\n",
       "</style>\n",
       "<table border=\"1\" class=\"dataframe\">\n",
       "  <thead>\n",
       "    <tr style=\"text-align: right;\">\n",
       "      <th></th>\n",
       "      <th>word</th>\n",
       "      <th>countrycode</th>\n",
       "      <th>timestamp</th>\n",
       "      <th>recognized</th>\n",
       "      <th>key_id</th>\n",
       "      <th>drawing</th>\n",
       "      <th>user_valuation</th>\n",
       "    </tr>\n",
       "  </thead>\n",
       "  <tbody>\n",
       "    <tr>\n",
       "      <th>0</th>\n",
       "      <td>fish</td>\n",
       "      <td>SE</td>\n",
       "      <td>2017-03-24 08:13:20.70309 UTC</td>\n",
       "      <td>True</td>\n",
       "      <td>5032798173790208</td>\n",
       "      <td>[[[193, 107, 54, 21, 0, 15, 73, 122, 162, 170,...</td>\n",
       "      <td>None</td>\n",
       "    </tr>\n",
       "    <tr>\n",
       "      <th>0</th>\n",
       "      <td>fish</td>\n",
       "      <td>US</td>\n",
       "      <td>2017-01-23 17:44:45.52386 UTC</td>\n",
       "      <td>True</td>\n",
       "      <td>5524799012995072</td>\n",
       "      <td>[[[102, 96, 87, 36, 17, 4, 1, 1, 20, 33, 51, 7...</td>\n",
       "      <td>None</td>\n",
       "    </tr>\n",
       "    <tr>\n",
       "      <th>0</th>\n",
       "      <td>fish</td>\n",
       "      <td>PH</td>\n",
       "      <td>2017-03-28 06:21:12.52972 UTC</td>\n",
       "      <td>True</td>\n",
       "      <td>5522290026479616</td>\n",
       "      <td>[[[197, 196, 190, 163, 124, 97, 84, 49, 0, 5, ...</td>\n",
       "      <td>None</td>\n",
       "    </tr>\n",
       "    <tr>\n",
       "      <th>0</th>\n",
       "      <td>fish</td>\n",
       "      <td>MX</td>\n",
       "      <td>2017-03-17 18:13:50.71068 UTC</td>\n",
       "      <td>True</td>\n",
       "      <td>5761628052127744</td>\n",
       "      <td>[[[254, 173, 152, 107, 67, 30, 19, 10, 4, 0, 6...</td>\n",
       "      <td>None</td>\n",
       "    </tr>\n",
       "    <tr>\n",
       "      <th>0</th>\n",
       "      <td>fish</td>\n",
       "      <td>TH</td>\n",
       "      <td>2017-03-27 03:43:09.86825 UTC</td>\n",
       "      <td>True</td>\n",
       "      <td>5716373223243776</td>\n",
       "      <td>[[[75, 84, 105, 150, 179, 209, 234, 245, 254, ...</td>\n",
       "      <td>None</td>\n",
       "    </tr>\n",
       "  </tbody>\n",
       "</table>\n",
       "</div>"
      ],
      "text/plain": [
       "   word countrycode                      timestamp recognized  \\\n",
       "0  fish          SE  2017-03-24 08:13:20.70309 UTC       True   \n",
       "0  fish          US  2017-01-23 17:44:45.52386 UTC       True   \n",
       "0  fish          PH  2017-03-28 06:21:12.52972 UTC       True   \n",
       "0  fish          MX  2017-03-17 18:13:50.71068 UTC       True   \n",
       "0  fish          TH  2017-03-27 03:43:09.86825 UTC       True   \n",
       "\n",
       "             key_id                                            drawing  \\\n",
       "0  5032798173790208  [[[193, 107, 54, 21, 0, 15, 73, 122, 162, 170,...   \n",
       "0  5524799012995072  [[[102, 96, 87, 36, 17, 4, 1, 1, 20, 33, 51, 7...   \n",
       "0  5522290026479616  [[[197, 196, 190, 163, 124, 97, 84, 49, 0, 5, ...   \n",
       "0  5761628052127744  [[[254, 173, 152, 107, 67, 30, 19, 10, 4, 0, 6...   \n",
       "0  5716373223243776  [[[75, 84, 105, 150, 179, 209, 234, 245, 254, ...   \n",
       "\n",
       "  user_valuation  \n",
       "0           None  \n",
       "0           None  \n",
       "0           None  \n",
       "0           None  \n",
       "0           None  "
      ]
     },
     "execution_count": 30,
     "metadata": {},
     "output_type": "execute_result"
    }
   ],
   "source": [
    "main_class = 'fish' # 'keyboard' 'monkey'\n",
    "dir_name = './raw_data'\n",
    "nr_images_to_value = 10\n",
    "# import main class\n",
    "main_data_files = list(filter(lambda x: ('.ndjson' in x) and (main_class in x), os.listdir(dir_name)))\n",
    "main_data_files = [f'{dir_name}/{file_name}' for file_name in main_data_files]\n",
    "print(main_data_files)\n",
    "main_df_raw = read_sketches_data(main_data_files,60000,None,False)[main_class]\n",
    "\n",
    "bad_examples = main_df_raw[main_df_raw['recognized']==False][:nr_images_to_value//2]\n",
    "good_examples = main_df_raw[main_df_raw['recognized']==True][:nr_images_to_value//2]"
   ]
  },
  {
   "cell_type": "code",
   "execution_count": 43,
   "metadata": {},
   "outputs": [
    {
     "data": {
      "text/plain": [
       "6"
      ]
     },
     "execution_count": 43,
     "metadata": {},
     "output_type": "execute_result"
    }
   ],
   "source": [
    "list(df_main.columns).index('user_valuation')"
   ]
  },
  {
   "cell_type": "code",
   "execution_count": 44,
   "metadata": {},
   "outputs": [
    {
     "name": "stdout",
     "output_type": "stream",
     "text": [
      "Valuate, how recognizable this image is\n"
     ]
    },
    {
     "data": {
      "image/png": "[encoded data removed]",
      "text/plain": [
       "<PIL.Image.Image image mode=L size=100x100>"
      ]
     },
     "metadata": {},
     "output_type": "display_data"
    },
    {
     "name": "stdout",
     "output_type": "stream",
     "text": [
      "Valuate, how recognizable this image is\n"
     ]
    },
    {
     "data": {
      "image/png": "[encoded data removed]",
      "text/plain": [
       "<PIL.Image.Image image mode=L size=100x100>"
      ]
     },
     "metadata": {},
     "output_type": "display_data"
    },
    {
     "name": "stdout",
     "output_type": "stream",
     "text": [
      "Valuate, how recognizable this image is\n"
     ]
    },
    {
     "data": {
      "image/png": "[encoded data removed]",
      "text/plain": [
       "<PIL.Image.Image image mode=L size=100x100>"
      ]
     },
     "metadata": {},
     "output_type": "display_data"
    },
    {
     "name": "stdout",
     "output_type": "stream",
     "text": [
      "Valuate, how recognizable this image is\n"
     ]
    },
    {
     "data": {
      "image/png": "[encoded data removed]",
      "text/plain": [
       "<PIL.Image.Image image mode=L size=100x100>"
      ]
     },
     "metadata": {},
     "output_type": "display_data"
    },
    {
     "name": "stdout",
     "output_type": "stream",
     "text": [
      "Valuate, how recognizable this image is\n"
     ]
    },
    {
     "data": {
      "image/png": "[encoded data removed]",
      "text/plain": [
       "<PIL.Image.Image image mode=L size=100x100>"
      ]
     },
     "metadata": {},
     "output_type": "display_data"
    },
    {
     "data": {
      "text/html": [
       "<div>\n",
       "<style scoped>\n",
       "    .dataframe tbody tr th:only-of-type {\n",
       "        vertical-align: middle;\n",
       "    }\n",
       "\n",
       "    .dataframe tbody tr th {\n",
       "        vertical-align: top;\n",
       "    }\n",
       "\n",
       "    .dataframe thead th {\n",
       "        text-align: right;\n",
       "    }\n",
       "</style>\n",
       "<table border=\"1\" class=\"dataframe\">\n",
       "  <thead>\n",
       "    <tr style=\"text-align: right;\">\n",
       "      <th></th>\n",
       "      <th>word</th>\n",
       "      <th>countrycode</th>\n",
       "      <th>timestamp</th>\n",
       "      <th>recognized</th>\n",
       "      <th>key_id</th>\n",
       "      <th>drawing</th>\n",
       "      <th>user_valuation</th>\n",
       "    </tr>\n",
       "  </thead>\n",
       "  <tbody>\n",
       "    <tr>\n",
       "      <th>0</th>\n",
       "      <td>fish</td>\n",
       "      <td>SE</td>\n",
       "      <td>2017-03-24 08:13:20.70309 UTC</td>\n",
       "      <td>True</td>\n",
       "      <td>5032798173790208</td>\n",
       "      <td>[[[193, 107, 54, 21, 0, 15, 73, 122, 162, 170,...</td>\n",
       "      <td>1</td>\n",
       "    </tr>\n",
       "    <tr>\n",
       "      <th>0</th>\n",
       "      <td>fish</td>\n",
       "      <td>US</td>\n",
       "      <td>2017-01-23 17:44:45.52386 UTC</td>\n",
       "      <td>True</td>\n",
       "      <td>5524799012995072</td>\n",
       "      <td>[[[102, 96, 87, 36, 17, 4, 1, 1, 20, 33, 51, 7...</td>\n",
       "      <td>1</td>\n",
       "    </tr>\n",
       "    <tr>\n",
       "      <th>0</th>\n",
       "      <td>fish</td>\n",
       "      <td>PH</td>\n",
       "      <td>2017-03-28 06:21:12.52972 UTC</td>\n",
       "      <td>True</td>\n",
       "      <td>5522290026479616</td>\n",
       "      <td>[[[197, 196, 190, 163, 124, 97, 84, 49, 0, 5, ...</td>\n",
       "      <td>1</td>\n",
       "    </tr>\n",
       "    <tr>\n",
       "      <th>0</th>\n",
       "      <td>fish</td>\n",
       "      <td>MX</td>\n",
       "      <td>2017-03-17 18:13:50.71068 UTC</td>\n",
       "      <td>True</td>\n",
       "      <td>5761628052127744</td>\n",
       "      <td>[[[254, 173, 152, 107, 67, 30, 19, 10, 4, 0, 6...</td>\n",
       "      <td>1</td>\n",
       "    </tr>\n",
       "    <tr>\n",
       "      <th>0</th>\n",
       "      <td>fish</td>\n",
       "      <td>TH</td>\n",
       "      <td>2017-03-27 03:43:09.86825 UTC</td>\n",
       "      <td>True</td>\n",
       "      <td>5716373223243776</td>\n",
       "      <td>[[[75, 84, 105, 150, 179, 209, 234, 245, 254, ...</td>\n",
       "      <td>1</td>\n",
       "    </tr>\n",
       "  </tbody>\n",
       "</table>\n",
       "</div>"
      ],
      "text/plain": [
       "   word countrycode                      timestamp recognized  \\\n",
       "0  fish          SE  2017-03-24 08:13:20.70309 UTC       True   \n",
       "0  fish          US  2017-01-23 17:44:45.52386 UTC       True   \n",
       "0  fish          PH  2017-03-28 06:21:12.52972 UTC       True   \n",
       "0  fish          MX  2017-03-17 18:13:50.71068 UTC       True   \n",
       "0  fish          TH  2017-03-27 03:43:09.86825 UTC       True   \n",
       "\n",
       "             key_id                                            drawing  \\\n",
       "0  5032798173790208  [[[193, 107, 54, 21, 0, 15, 73, 122, 162, 170,...   \n",
       "0  5524799012995072  [[[102, 96, 87, 36, 17, 4, 1, 1, 20, 33, 51, 7...   \n",
       "0  5522290026479616  [[[197, 196, 190, 163, 124, 97, 84, 49, 0, 5, ...   \n",
       "0  5761628052127744  [[[254, 173, 152, 107, 67, 30, 19, 10, 4, 0, 6...   \n",
       "0  5716373223243776  [[[75, 84, 105, 150, 179, 209, 234, 245, 254, ...   \n",
       "\n",
       "   user_valuation  \n",
       "0               1  \n",
       "0               1  \n",
       "0               1  \n",
       "0               1  \n",
       "0               1  "
      ]
     },
     "execution_count": 44,
     "metadata": {},
     "output_type": "execute_result"
    }
   ],
   "source": [
    "df_main = pd.concat([bad_examples,good_examples])\n",
    "df_main['user_valuation'] = 0\n",
    "use_valuation_idx = list(df_main.columns).index('user_valuation')\n",
    "for i in range(len(df_main)):\n",
    "    row = df_main.iloc[i]\n",
    "    print('Valuate, how recognizable this image is')\n",
    "    visualise_sketch(vector_to_img(row['drawing']))\n",
    "    user_valuation = int(input('Value:'))\n",
    "    df_main.iat[i,use_valuation_idx] = user_valuation\n",
    "\n",
    "df_main"
   ]
  },
  {
   "cell_type": "code",
   "execution_count": null,
   "metadata": {},
   "outputs": [],
   "source": []
  },
  {
   "cell_type": "code",
   "execution_count": null,
   "metadata": {},
   "outputs": [],
   "source": []
  }
 ],
 "metadata": {
  "kernelspec": {
   "display_name": "Python 3.9.15 ('base')",
   "language": "python",
   "name": "python3"
  },
  "language_info": {
   "codemirror_mode": {
    "name": "ipython",
    "version": 3
   },
   "file_extension": ".py",
   "mimetype": "text/x-python",
   "name": "python",
   "nbconvert_exporter": "python",
   "pygments_lexer": "ipython3",
   "version": "3.9.15"
  },
  "orig_nbformat": 4,
  "vscode": {
   "interpreter": {
    "hash": "fbcaeb40e85a79d3fd704cee83f39fda96f7073b49e73530e1fcddbbd8ef6f62"
   }
  }
 },
 "nbformat": 4,
 "nbformat_minor": 2
}
